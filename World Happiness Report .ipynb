{
 "cells": [
  {
   "cell_type": "markdown",
   "id": "permanent-classroom",
   "metadata": {},
   "source": [
    "# World Happiness Report\n",
    "\n",
    "\n",
    "###### Introduction\n",
    " The World Happiness Report is a landmark survey of the state of global happiness. The first report was published in 2012, the second in 2013, the third in 2015, and the fourth in the 2016 Update. The World Happiness 2017, which ranks 155 countries by their happiness levels, was released at the United Nations at an event celebrating International Day of Happiness on March 20th. The report continues to gain global recognition as governments, organizations and civil society increasingly use happiness indicators to inform their policy-making decisions. Leading experts across fields – economics, psychology, survey analysis, national statistics, health, public policy and more – describe how measurements of well-being can be used effectively to assess the progress of nations. The reports review the state of happiness in the world today and show how the new science of happiness explains personal and national variations in happiness.\n",
    "\n",
    "###### Content\n",
    "The happiness scores and rankings use data from the Gallup World Poll. The scores are based on answers to the main life evaluation question asked in the poll. This question, known as the Cantril ladder, asks respondents to think of a ladder with the best possible life for them being a 10 and the worst possible life being a 0 and to rate their own current lives on that scale. The scores are from nationally representative samples for the years 2013-2016 and use the Gallup weights to make the estimates representative. The columns following the happiness score estimate the extent to which each of six factors – economic production, social support, life expectancy, freedom, absence of corruption, and generosity – contribute to making life evaluations higher in each country than they are in Dystopia, a hypothetical country that has values equal to the world’s lowest national averages for each of the six factors. They have no impact on the total score reported for each country, but they do explain why some countries rank higher than others.\n",
    "###### Inspiration\n",
    "\n",
    "What countries or regions rank the highest in overall happiness and each of the six factors contributing to happiness? How did country ranks or scores change between the 2015 and 2016 as well as the 2016 and 2017 reports? Did any country experience a significant increase or decrease in happiness?\n",
    "\n",
    "###### What is Dystopia?\n",
    "Dystopia is an imaginary country that has the world’s least-happy people. The purpose in establishing Dystopia is to have a benchmark against which all countries can be favorably compared (no country performs more poorly than Dystopia) in terms of each of the six key variables, thus allowing each sub-bar to be of positive width. The lowest scores observed for the six key variables, therefore, characterize Dystopia. Since life would be very unpleasant in a country with the world’s lowest incomes, lowest life expectancy, lowest generosity, most corruption, least freedom and least social support, it is referred to as “Dystopia,” in contrast to Utopia.\n",
    "\n",
    "###### What are the residuals?\n",
    "The residuals, or unexplained components, differ for each country, reflecting the extent to which the six variables either over- or under-explain average 2014-2016 life evaluations. These residuals have an average value of approximately zero over the whole set of countries. Figure 2.2 shows the average residual for each country when the equation in Table 2.1 is applied to average 2014- 2016 data for the six variables in that country. We combine these residuals with the estimate for life evaluations in Dystopia so that the combined bar will always have positive values. As can be seen in Figure 2.2, although some life evaluation residuals are quite large, occasionally exceeding one point on the scale from 0 to 10, they are always much smaller than the calculated value in Dystopia, where the average life is rated at 1.85 on the 0 to 10 scale.\n",
    "\n",
    "###### What do the columns succeeding the Happiness Score(like Family, Generosity, etc.) describe?\n",
    "The following columns: GDP per Capita, Family, Life Expectancy, Freedom, Generosity, Trust Government Corruption describe the extent to which these factors contribute in evaluating the happiness in each country.\n",
    "The Dystopia Residual metric actually is the Dystopia Happiness Score(1.85) + the Residual value or the unexplained value for each country as stated in the previous answer.\n",
    "\n",
    "### Import Libraries\n",
    "Let's import some libraries to get started!"
   ]
  },
  {
   "cell_type": "code",
   "execution_count": 1,
   "id": "informative-daisy",
   "metadata": {},
   "outputs": [],
   "source": [
    "import pandas as pd \n",
    "import numpy as np\n",
    "import matplotlib.pyplot as plt #data visualization\n",
    "import seaborn as sns\n",
    "%matplotlib inline"
   ]
  },
  {
   "cell_type": "markdown",
   "id": "soviet-coordination",
   "metadata": {},
   "source": [
    "### The Data\n",
    "Let's start by reading in the happiness_score_dataset.csv file into a pandas dataframe."
   ]
  },
  {
   "cell_type": "code",
   "execution_count": 2,
   "id": "working-pledge",
   "metadata": {},
   "outputs": [],
   "source": [
    "WHR = pd.read_csv(\"happiness_score_dataset.csv\")"
   ]
  },
  {
   "cell_type": "code",
   "execution_count": 3,
   "id": "beneficial-answer",
   "metadata": {},
   "outputs": [
    {
     "data": {
      "text/html": [
       "<div>\n",
       "<style scoped>\n",
       "    .dataframe tbody tr th:only-of-type {\n",
       "        vertical-align: middle;\n",
       "    }\n",
       "\n",
       "    .dataframe tbody tr th {\n",
       "        vertical-align: top;\n",
       "    }\n",
       "\n",
       "    .dataframe thead th {\n",
       "        text-align: right;\n",
       "    }\n",
       "</style>\n",
       "<table border=\"1\" class=\"dataframe\">\n",
       "  <thead>\n",
       "    <tr style=\"text-align: right;\">\n",
       "      <th></th>\n",
       "      <th>Country</th>\n",
       "      <th>Happiness Rank</th>\n",
       "      <th>Happiness Score</th>\n",
       "      <th>Economy</th>\n",
       "      <th>Family</th>\n",
       "      <th>Health</th>\n",
       "      <th>Freedom</th>\n",
       "      <th>Generosity</th>\n",
       "      <th>Corruption</th>\n",
       "      <th>Dystopia</th>\n",
       "      <th>Job Satisfaction</th>\n",
       "      <th>Region</th>\n",
       "    </tr>\n",
       "  </thead>\n",
       "  <tbody>\n",
       "    <tr>\n",
       "      <th>0</th>\n",
       "      <td>Norway</td>\n",
       "      <td>1</td>\n",
       "      <td>7.537</td>\n",
       "      <td>1.616463</td>\n",
       "      <td>1.533524</td>\n",
       "      <td>0.796667</td>\n",
       "      <td>0.635423</td>\n",
       "      <td>0.362012</td>\n",
       "      <td>0.315964</td>\n",
       "      <td>2.277027</td>\n",
       "      <td>94.6</td>\n",
       "      <td>Western Europe</td>\n",
       "    </tr>\n",
       "    <tr>\n",
       "      <th>1</th>\n",
       "      <td>Denmark</td>\n",
       "      <td>2</td>\n",
       "      <td>7.522</td>\n",
       "      <td>1.482383</td>\n",
       "      <td>1.551122</td>\n",
       "      <td>0.792566</td>\n",
       "      <td>0.626007</td>\n",
       "      <td>0.355280</td>\n",
       "      <td>0.400770</td>\n",
       "      <td>2.313707</td>\n",
       "      <td>93.5</td>\n",
       "      <td>Western Europe</td>\n",
       "    </tr>\n",
       "    <tr>\n",
       "      <th>2</th>\n",
       "      <td>Iceland</td>\n",
       "      <td>3</td>\n",
       "      <td>7.504</td>\n",
       "      <td>1.480633</td>\n",
       "      <td>1.610574</td>\n",
       "      <td>0.833552</td>\n",
       "      <td>0.627163</td>\n",
       "      <td>0.475540</td>\n",
       "      <td>0.153527</td>\n",
       "      <td>2.322715</td>\n",
       "      <td>94.5</td>\n",
       "      <td>Western Europe</td>\n",
       "    </tr>\n",
       "    <tr>\n",
       "      <th>3</th>\n",
       "      <td>Switzerland</td>\n",
       "      <td>4</td>\n",
       "      <td>7.494</td>\n",
       "      <td>1.564980</td>\n",
       "      <td>1.516912</td>\n",
       "      <td>0.858131</td>\n",
       "      <td>0.620071</td>\n",
       "      <td>0.290549</td>\n",
       "      <td>0.367007</td>\n",
       "      <td>2.276716</td>\n",
       "      <td>93.7</td>\n",
       "      <td>Western Europe</td>\n",
       "    </tr>\n",
       "    <tr>\n",
       "      <th>4</th>\n",
       "      <td>Finland</td>\n",
       "      <td>5</td>\n",
       "      <td>7.469</td>\n",
       "      <td>1.443572</td>\n",
       "      <td>1.540247</td>\n",
       "      <td>0.809158</td>\n",
       "      <td>0.617951</td>\n",
       "      <td>0.245483</td>\n",
       "      <td>0.382612</td>\n",
       "      <td>2.430182</td>\n",
       "      <td>91.2</td>\n",
       "      <td>Western Europe</td>\n",
       "    </tr>\n",
       "    <tr>\n",
       "      <th>5</th>\n",
       "      <td>Netherlands</td>\n",
       "      <td>6</td>\n",
       "      <td>7.377</td>\n",
       "      <td>1.503945</td>\n",
       "      <td>1.428939</td>\n",
       "      <td>0.810696</td>\n",
       "      <td>0.585384</td>\n",
       "      <td>0.470490</td>\n",
       "      <td>0.282662</td>\n",
       "      <td>2.294804</td>\n",
       "      <td>93.8</td>\n",
       "      <td>Western Europe</td>\n",
       "    </tr>\n",
       "    <tr>\n",
       "      <th>6</th>\n",
       "      <td>Canada</td>\n",
       "      <td>7</td>\n",
       "      <td>7.316</td>\n",
       "      <td>1.479204</td>\n",
       "      <td>1.481349</td>\n",
       "      <td>0.834558</td>\n",
       "      <td>0.611101</td>\n",
       "      <td>0.435540</td>\n",
       "      <td>0.287372</td>\n",
       "      <td>2.187264</td>\n",
       "      <td>90.5</td>\n",
       "      <td>North America</td>\n",
       "    </tr>\n",
       "    <tr>\n",
       "      <th>7</th>\n",
       "      <td>New Zealand</td>\n",
       "      <td>8</td>\n",
       "      <td>7.314</td>\n",
       "      <td>1.405706</td>\n",
       "      <td>1.548195</td>\n",
       "      <td>0.816760</td>\n",
       "      <td>0.614062</td>\n",
       "      <td>0.500005</td>\n",
       "      <td>0.382817</td>\n",
       "      <td>2.046456</td>\n",
       "      <td>88.6</td>\n",
       "      <td>Asia-Pacific</td>\n",
       "    </tr>\n",
       "    <tr>\n",
       "      <th>8</th>\n",
       "      <td>Sweden</td>\n",
       "      <td>9</td>\n",
       "      <td>7.284</td>\n",
       "      <td>1.494387</td>\n",
       "      <td>1.478162</td>\n",
       "      <td>0.830875</td>\n",
       "      <td>0.612924</td>\n",
       "      <td>0.385399</td>\n",
       "      <td>0.384399</td>\n",
       "      <td>2.097538</td>\n",
       "      <td>92.7</td>\n",
       "      <td>Western Europe</td>\n",
       "    </tr>\n",
       "    <tr>\n",
       "      <th>9</th>\n",
       "      <td>Australia</td>\n",
       "      <td>10</td>\n",
       "      <td>7.284</td>\n",
       "      <td>1.484415</td>\n",
       "      <td>1.510042</td>\n",
       "      <td>0.843887</td>\n",
       "      <td>0.601607</td>\n",
       "      <td>0.477699</td>\n",
       "      <td>0.301184</td>\n",
       "      <td>2.065211</td>\n",
       "      <td>89.2</td>\n",
       "      <td>Asia-Pacific</td>\n",
       "    </tr>\n",
       "  </tbody>\n",
       "</table>\n",
       "</div>"
      ],
      "text/plain": [
       "       Country  Happiness Rank  Happiness Score   Economy    Family    Health  \\\n",
       "0       Norway               1            7.537  1.616463  1.533524  0.796667   \n",
       "1      Denmark               2            7.522  1.482383  1.551122  0.792566   \n",
       "2      Iceland               3            7.504  1.480633  1.610574  0.833552   \n",
       "3  Switzerland               4            7.494  1.564980  1.516912  0.858131   \n",
       "4      Finland               5            7.469  1.443572  1.540247  0.809158   \n",
       "5  Netherlands               6            7.377  1.503945  1.428939  0.810696   \n",
       "6       Canada               7            7.316  1.479204  1.481349  0.834558   \n",
       "7  New Zealand               8            7.314  1.405706  1.548195  0.816760   \n",
       "8       Sweden               9            7.284  1.494387  1.478162  0.830875   \n",
       "9    Australia              10            7.284  1.484415  1.510042  0.843887   \n",
       "\n",
       "    Freedom  Generosity  Corruption  Dystopia  Job Satisfaction  \\\n",
       "0  0.635423    0.362012    0.315964  2.277027              94.6   \n",
       "1  0.626007    0.355280    0.400770  2.313707              93.5   \n",
       "2  0.627163    0.475540    0.153527  2.322715              94.5   \n",
       "3  0.620071    0.290549    0.367007  2.276716              93.7   \n",
       "4  0.617951    0.245483    0.382612  2.430182              91.2   \n",
       "5  0.585384    0.470490    0.282662  2.294804              93.8   \n",
       "6  0.611101    0.435540    0.287372  2.187264              90.5   \n",
       "7  0.614062    0.500005    0.382817  2.046456              88.6   \n",
       "8  0.612924    0.385399    0.384399  2.097538              92.7   \n",
       "9  0.601607    0.477699    0.301184  2.065211              89.2   \n",
       "\n",
       "           Region  \n",
       "0  Western Europe  \n",
       "1  Western Europe  \n",
       "2  Western Europe  \n",
       "3  Western Europe  \n",
       "4  Western Europe  \n",
       "5  Western Europe  \n",
       "6   North America  \n",
       "7    Asia-Pacific  \n",
       "8  Western Europe  \n",
       "9    Asia-Pacific  "
      ]
     },
     "execution_count": 3,
     "metadata": {},
     "output_type": "execute_result"
    }
   ],
   "source": [
    "WHR.head(10)"
   ]
  },
  {
   "cell_type": "markdown",
   "id": "attractive-williams",
   "metadata": {},
   "source": [
    "### Exploratory Data Analysis\n",
    "\n",
    "Let's begin some exploratory data analysis! We'll start by checking out missing data!"
   ]
  },
  {
   "cell_type": "code",
   "execution_count": 4,
   "id": "distributed-reset",
   "metadata": {},
   "outputs": [
    {
     "data": {
      "text/plain": [
       "(153, 12)"
      ]
     },
     "execution_count": 4,
     "metadata": {},
     "output_type": "execute_result"
    }
   ],
   "source": [
    "WHR.shape"
   ]
  },
  {
   "cell_type": "code",
   "execution_count": 5,
   "id": "needed-lincoln",
   "metadata": {},
   "outputs": [
    {
     "name": "stdout",
     "output_type": "stream",
     "text": [
      "There are 153 rows and 12 columns in our data\n"
     ]
    }
   ],
   "source": [
    "print(\"There are {:,} rows \".format(WHR.shape[0]) + \"and {} columns in our data\".format(WHR.shape[1]))"
   ]
  },
  {
   "cell_type": "code",
   "execution_count": 6,
   "id": "manufactured-substance",
   "metadata": {},
   "outputs": [],
   "source": [
    "WHR.set_index('Country', inplace=True)"
   ]
  },
  {
   "cell_type": "code",
   "execution_count": 7,
   "id": "outstanding-auction",
   "metadata": {},
   "outputs": [
    {
     "name": "stdout",
     "output_type": "stream",
     "text": [
      "<class 'pandas.core.frame.DataFrame'>\n",
      "Index: 153 entries, Norway to Central African Republic\n",
      "Data columns (total 11 columns):\n",
      " #   Column            Non-Null Count  Dtype  \n",
      "---  ------            --------------  -----  \n",
      " 0   Happiness Rank    153 non-null    int64  \n",
      " 1   Happiness Score   153 non-null    float64\n",
      " 2   Economy           153 non-null    float64\n",
      " 3   Family            153 non-null    float64\n",
      " 4   Health            153 non-null    float64\n",
      " 5   Freedom           153 non-null    float64\n",
      " 6   Generosity        153 non-null    float64\n",
      " 7   Corruption        153 non-null    float64\n",
      " 8   Dystopia          153 non-null    float64\n",
      " 9   Job Satisfaction  151 non-null    float64\n",
      " 10  Region            153 non-null    object \n",
      "dtypes: float64(9), int64(1), object(1)\n",
      "memory usage: 14.3+ KB\n"
     ]
    }
   ],
   "source": [
    "WHR.info()"
   ]
  },
  {
   "cell_type": "markdown",
   "id": "chubby-lover",
   "metadata": {},
   "source": [
    "### Missing Data\n",
    "\n",
    "We can use seaborn to create a simple heatmap to see where we are missing data!"
   ]
  },
  {
   "cell_type": "code",
   "execution_count": 8,
   "id": "serious-germany",
   "metadata": {},
   "outputs": [
    {
     "data": {
      "text/plain": [
       "Happiness Rank      0\n",
       "Happiness Score     0\n",
       "Economy             0\n",
       "Family              0\n",
       "Health              0\n",
       "Freedom             0\n",
       "Generosity          0\n",
       "Corruption          0\n",
       "Dystopia            0\n",
       "Job Satisfaction    2\n",
       "Region              0\n",
       "dtype: int64"
      ]
     },
     "execution_count": 8,
     "metadata": {},
     "output_type": "execute_result"
    }
   ],
   "source": [
    "WHR.isnull().sum()"
   ]
  },
  {
   "cell_type": "code",
   "execution_count": 9,
   "id": "inner-subject",
   "metadata": {},
   "outputs": [],
   "source": [
    "NULLS = WHR[WHR.isnull().any(axis=1)]"
   ]
  },
  {
   "cell_type": "code",
   "execution_count": 10,
   "id": "closing-preview",
   "metadata": {},
   "outputs": [
    {
     "data": {
      "text/html": [
       "<div>\n",
       "<style scoped>\n",
       "    .dataframe tbody tr th:only-of-type {\n",
       "        vertical-align: middle;\n",
       "    }\n",
       "\n",
       "    .dataframe tbody tr th {\n",
       "        vertical-align: top;\n",
       "    }\n",
       "\n",
       "    .dataframe thead th {\n",
       "        text-align: right;\n",
       "    }\n",
       "</style>\n",
       "<table border=\"1\" class=\"dataframe\">\n",
       "  <thead>\n",
       "    <tr style=\"text-align: right;\">\n",
       "      <th></th>\n",
       "      <th>Happiness Rank</th>\n",
       "      <th>Happiness Score</th>\n",
       "      <th>Economy</th>\n",
       "      <th>Family</th>\n",
       "      <th>Health</th>\n",
       "      <th>Freedom</th>\n",
       "      <th>Generosity</th>\n",
       "      <th>Corruption</th>\n",
       "      <th>Dystopia</th>\n",
       "      <th>Job Satisfaction</th>\n",
       "      <th>Region</th>\n",
       "    </tr>\n",
       "    <tr>\n",
       "      <th>Country</th>\n",
       "      <th></th>\n",
       "      <th></th>\n",
       "      <th></th>\n",
       "      <th></th>\n",
       "      <th></th>\n",
       "      <th></th>\n",
       "      <th></th>\n",
       "      <th></th>\n",
       "      <th></th>\n",
       "      <th></th>\n",
       "      <th></th>\n",
       "    </tr>\n",
       "  </thead>\n",
       "  <tbody>\n",
       "    <tr>\n",
       "      <th>North Cyprus</th>\n",
       "      <td>61</td>\n",
       "      <td>5.810</td>\n",
       "      <td>1.346911</td>\n",
       "      <td>1.186303</td>\n",
       "      <td>0.834647</td>\n",
       "      <td>0.471204</td>\n",
       "      <td>0.266846</td>\n",
       "      <td>0.155353</td>\n",
       "      <td>1.549158</td>\n",
       "      <td>NaN</td>\n",
       "      <td>Eastern Europe</td>\n",
       "    </tr>\n",
       "    <tr>\n",
       "      <th>South Sudan</th>\n",
       "      <td>147</td>\n",
       "      <td>3.591</td>\n",
       "      <td>0.397249</td>\n",
       "      <td>0.601323</td>\n",
       "      <td>0.163486</td>\n",
       "      <td>0.147062</td>\n",
       "      <td>0.285671</td>\n",
       "      <td>0.116794</td>\n",
       "      <td>1.879567</td>\n",
       "      <td>NaN</td>\n",
       "      <td>Africa</td>\n",
       "    </tr>\n",
       "  </tbody>\n",
       "</table>\n",
       "</div>"
      ],
      "text/plain": [
       "              Happiness Rank  Happiness Score   Economy    Family    Health  \\\n",
       "Country                                                                       \n",
       "North Cyprus              61            5.810  1.346911  1.186303  0.834647   \n",
       "South Sudan              147            3.591  0.397249  0.601323  0.163486   \n",
       "\n",
       "               Freedom  Generosity  Corruption  Dystopia  Job Satisfaction  \\\n",
       "Country                                                                      \n",
       "North Cyprus  0.471204    0.266846    0.155353  1.549158               NaN   \n",
       "South Sudan   0.147062    0.285671    0.116794  1.879567               NaN   \n",
       "\n",
       "                      Region  \n",
       "Country                       \n",
       "North Cyprus  Eastern Europe  \n",
       "South Sudan           Africa  "
      ]
     },
     "execution_count": 10,
     "metadata": {},
     "output_type": "execute_result"
    }
   ],
   "source": [
    "NULLS.head()"
   ]
  },
  {
   "cell_type": "code",
   "execution_count": 11,
   "id": "endangered-kansas",
   "metadata": {},
   "outputs": [],
   "source": [
    "WHR.dropna(inplace=True)"
   ]
  },
  {
   "cell_type": "code",
   "execution_count": 12,
   "id": "packed-funds",
   "metadata": {},
   "outputs": [
    {
     "data": {
      "text/plain": [
       "Happiness Rank      0\n",
       "Happiness Score     0\n",
       "Economy             0\n",
       "Family              0\n",
       "Health              0\n",
       "Freedom             0\n",
       "Generosity          0\n",
       "Corruption          0\n",
       "Dystopia            0\n",
       "Job Satisfaction    0\n",
       "Region              0\n",
       "dtype: int64"
      ]
     },
     "execution_count": 12,
     "metadata": {},
     "output_type": "execute_result"
    }
   ],
   "source": [
    "WHR.isnull().sum()"
   ]
  },
  {
   "cell_type": "code",
   "execution_count": 13,
   "id": "agricultural-funds",
   "metadata": {},
   "outputs": [
    {
     "data": {
      "text/plain": [
       "0"
      ]
     },
     "execution_count": 13,
     "metadata": {},
     "output_type": "execute_result"
    }
   ],
   "source": [
    "WHR.isnull().sum().sum()"
   ]
  },
  {
   "cell_type": "code",
   "execution_count": 14,
   "id": "threaded-brother",
   "metadata": {},
   "outputs": [
    {
     "data": {
      "text/html": [
       "<div>\n",
       "<style scoped>\n",
       "    .dataframe tbody tr th:only-of-type {\n",
       "        vertical-align: middle;\n",
       "    }\n",
       "\n",
       "    .dataframe tbody tr th {\n",
       "        vertical-align: top;\n",
       "    }\n",
       "\n",
       "    .dataframe thead th {\n",
       "        text-align: right;\n",
       "    }\n",
       "</style>\n",
       "<table border=\"1\" class=\"dataframe\">\n",
       "  <thead>\n",
       "    <tr style=\"text-align: right;\">\n",
       "      <th></th>\n",
       "      <th>Happiness Rank</th>\n",
       "      <th>Happiness Score</th>\n",
       "      <th>Economy</th>\n",
       "      <th>Family</th>\n",
       "      <th>Health</th>\n",
       "      <th>Freedom</th>\n",
       "      <th>Generosity</th>\n",
       "      <th>Corruption</th>\n",
       "      <th>Dystopia</th>\n",
       "      <th>Job Satisfaction</th>\n",
       "    </tr>\n",
       "  </thead>\n",
       "  <tbody>\n",
       "    <tr>\n",
       "      <th>count</th>\n",
       "      <td>151.000000</td>\n",
       "      <td>151.000000</td>\n",
       "      <td>151.000000</td>\n",
       "      <td>151.000000</td>\n",
       "      <td>151.000000</td>\n",
       "      <td>151.000000</td>\n",
       "      <td>151.000000</td>\n",
       "      <td>151.000000</td>\n",
       "      <td>151.000000</td>\n",
       "      <td>151.000000</td>\n",
       "    </tr>\n",
       "    <tr>\n",
       "      <th>mean</th>\n",
       "      <td>77.827815</td>\n",
       "      <td>5.357874</td>\n",
       "      <td>0.983895</td>\n",
       "      <td>1.190509</td>\n",
       "      <td>0.550794</td>\n",
       "      <td>0.409805</td>\n",
       "      <td>0.244914</td>\n",
       "      <td>0.123008</td>\n",
       "      <td>1.854910</td>\n",
       "      <td>75.209934</td>\n",
       "    </tr>\n",
       "    <tr>\n",
       "      <th>std</th>\n",
       "      <td>44.934732</td>\n",
       "      <td>1.132826</td>\n",
       "      <td>0.420955</td>\n",
       "      <td>0.286371</td>\n",
       "      <td>0.236116</td>\n",
       "      <td>0.150144</td>\n",
       "      <td>0.135236</td>\n",
       "      <td>0.102776</td>\n",
       "      <td>0.502189</td>\n",
       "      <td>12.962365</td>\n",
       "    </tr>\n",
       "    <tr>\n",
       "      <th>min</th>\n",
       "      <td>1.000000</td>\n",
       "      <td>2.693000</td>\n",
       "      <td>0.000000</td>\n",
       "      <td>0.000000</td>\n",
       "      <td>0.000000</td>\n",
       "      <td>0.000000</td>\n",
       "      <td>0.000000</td>\n",
       "      <td>0.000000</td>\n",
       "      <td>0.377914</td>\n",
       "      <td>44.400000</td>\n",
       "    </tr>\n",
       "    <tr>\n",
       "      <th>25%</th>\n",
       "      <td>39.500000</td>\n",
       "      <td>4.505500</td>\n",
       "      <td>0.663371</td>\n",
       "      <td>1.042635</td>\n",
       "      <td>0.369866</td>\n",
       "      <td>0.303677</td>\n",
       "      <td>0.152574</td>\n",
       "      <td>0.056919</td>\n",
       "      <td>1.605148</td>\n",
       "      <td>68.950000</td>\n",
       "    </tr>\n",
       "    <tr>\n",
       "      <th>50%</th>\n",
       "      <td>78.000000</td>\n",
       "      <td>5.279000</td>\n",
       "      <td>1.064578</td>\n",
       "      <td>1.253918</td>\n",
       "      <td>0.606042</td>\n",
       "      <td>0.437454</td>\n",
       "      <td>0.230947</td>\n",
       "      <td>0.089283</td>\n",
       "      <td>1.832910</td>\n",
       "      <td>78.100000</td>\n",
       "    </tr>\n",
       "    <tr>\n",
       "      <th>75%</th>\n",
       "      <td>116.500000</td>\n",
       "      <td>6.101500</td>\n",
       "      <td>1.314879</td>\n",
       "      <td>1.418162</td>\n",
       "      <td>0.715975</td>\n",
       "      <td>0.519467</td>\n",
       "      <td>0.323762</td>\n",
       "      <td>0.152207</td>\n",
       "      <td>2.161605</td>\n",
       "      <td>85.100000</td>\n",
       "    </tr>\n",
       "    <tr>\n",
       "      <th>max</th>\n",
       "      <td>155.000000</td>\n",
       "      <td>7.537000</td>\n",
       "      <td>1.870766</td>\n",
       "      <td>1.610574</td>\n",
       "      <td>0.949492</td>\n",
       "      <td>0.658249</td>\n",
       "      <td>0.838075</td>\n",
       "      <td>0.464308</td>\n",
       "      <td>3.117485</td>\n",
       "      <td>95.100000</td>\n",
       "    </tr>\n",
       "  </tbody>\n",
       "</table>\n",
       "</div>"
      ],
      "text/plain": [
       "       Happiness Rank  Happiness Score     Economy      Family      Health  \\\n",
       "count      151.000000       151.000000  151.000000  151.000000  151.000000   \n",
       "mean        77.827815         5.357874    0.983895    1.190509    0.550794   \n",
       "std         44.934732         1.132826    0.420955    0.286371    0.236116   \n",
       "min          1.000000         2.693000    0.000000    0.000000    0.000000   \n",
       "25%         39.500000         4.505500    0.663371    1.042635    0.369866   \n",
       "50%         78.000000         5.279000    1.064578    1.253918    0.606042   \n",
       "75%        116.500000         6.101500    1.314879    1.418162    0.715975   \n",
       "max        155.000000         7.537000    1.870766    1.610574    0.949492   \n",
       "\n",
       "          Freedom  Generosity  Corruption    Dystopia  Job Satisfaction  \n",
       "count  151.000000  151.000000  151.000000  151.000000        151.000000  \n",
       "mean     0.409805    0.244914    0.123008    1.854910         75.209934  \n",
       "std      0.150144    0.135236    0.102776    0.502189         12.962365  \n",
       "min      0.000000    0.000000    0.000000    0.377914         44.400000  \n",
       "25%      0.303677    0.152574    0.056919    1.605148         68.950000  \n",
       "50%      0.437454    0.230947    0.089283    1.832910         78.100000  \n",
       "75%      0.519467    0.323762    0.152207    2.161605         85.100000  \n",
       "max      0.658249    0.838075    0.464308    3.117485         95.100000  "
      ]
     },
     "execution_count": 14,
     "metadata": {},
     "output_type": "execute_result"
    }
   ],
   "source": [
    "WHR.describe()"
   ]
  },
  {
   "cell_type": "code",
   "execution_count": 15,
   "id": "outdoor-operation",
   "metadata": {},
   "outputs": [
    {
     "data": {
      "text/html": [
       "<div>\n",
       "<style scoped>\n",
       "    .dataframe tbody tr th:only-of-type {\n",
       "        vertical-align: middle;\n",
       "    }\n",
       "\n",
       "    .dataframe tbody tr th {\n",
       "        vertical-align: top;\n",
       "    }\n",
       "\n",
       "    .dataframe thead th {\n",
       "        text-align: right;\n",
       "    }\n",
       "</style>\n",
       "<table border=\"1\" class=\"dataframe\">\n",
       "  <thead>\n",
       "    <tr style=\"text-align: right;\">\n",
       "      <th></th>\n",
       "      <th>Happiness Rank</th>\n",
       "      <th>Happiness Score</th>\n",
       "      <th>Economy</th>\n",
       "      <th>Family</th>\n",
       "      <th>Health</th>\n",
       "      <th>Freedom</th>\n",
       "      <th>Generosity</th>\n",
       "      <th>Corruption</th>\n",
       "      <th>Dystopia</th>\n",
       "      <th>Job Satisfaction</th>\n",
       "      <th>Region</th>\n",
       "    </tr>\n",
       "    <tr>\n",
       "      <th>Country</th>\n",
       "      <th></th>\n",
       "      <th></th>\n",
       "      <th></th>\n",
       "      <th></th>\n",
       "      <th></th>\n",
       "      <th></th>\n",
       "      <th></th>\n",
       "      <th></th>\n",
       "      <th></th>\n",
       "      <th></th>\n",
       "      <th></th>\n",
       "    </tr>\n",
       "  </thead>\n",
       "  <tbody>\n",
       "    <tr>\n",
       "      <th>Norway</th>\n",
       "      <td>1</td>\n",
       "      <td>7.537</td>\n",
       "      <td>1.616463</td>\n",
       "      <td>1.533524</td>\n",
       "      <td>0.796667</td>\n",
       "      <td>0.635423</td>\n",
       "      <td>0.362012</td>\n",
       "      <td>0.315964</td>\n",
       "      <td>2.277027</td>\n",
       "      <td>94.6</td>\n",
       "      <td>Western Europe</td>\n",
       "    </tr>\n",
       "    <tr>\n",
       "      <th>Denmark</th>\n",
       "      <td>2</td>\n",
       "      <td>7.522</td>\n",
       "      <td>1.482383</td>\n",
       "      <td>1.551122</td>\n",
       "      <td>0.792566</td>\n",
       "      <td>0.626007</td>\n",
       "      <td>0.355280</td>\n",
       "      <td>0.400770</td>\n",
       "      <td>2.313707</td>\n",
       "      <td>93.5</td>\n",
       "      <td>Western Europe</td>\n",
       "    </tr>\n",
       "    <tr>\n",
       "      <th>Iceland</th>\n",
       "      <td>3</td>\n",
       "      <td>7.504</td>\n",
       "      <td>1.480633</td>\n",
       "      <td>1.610574</td>\n",
       "      <td>0.833552</td>\n",
       "      <td>0.627163</td>\n",
       "      <td>0.475540</td>\n",
       "      <td>0.153527</td>\n",
       "      <td>2.322715</td>\n",
       "      <td>94.5</td>\n",
       "      <td>Western Europe</td>\n",
       "    </tr>\n",
       "    <tr>\n",
       "      <th>Switzerland</th>\n",
       "      <td>4</td>\n",
       "      <td>7.494</td>\n",
       "      <td>1.564980</td>\n",
       "      <td>1.516912</td>\n",
       "      <td>0.858131</td>\n",
       "      <td>0.620071</td>\n",
       "      <td>0.290549</td>\n",
       "      <td>0.367007</td>\n",
       "      <td>2.276716</td>\n",
       "      <td>93.7</td>\n",
       "      <td>Western Europe</td>\n",
       "    </tr>\n",
       "    <tr>\n",
       "      <th>Finland</th>\n",
       "      <td>5</td>\n",
       "      <td>7.469</td>\n",
       "      <td>1.443572</td>\n",
       "      <td>1.540247</td>\n",
       "      <td>0.809158</td>\n",
       "      <td>0.617951</td>\n",
       "      <td>0.245483</td>\n",
       "      <td>0.382612</td>\n",
       "      <td>2.430182</td>\n",
       "      <td>91.2</td>\n",
       "      <td>Western Europe</td>\n",
       "    </tr>\n",
       "    <tr>\n",
       "      <th>Netherlands</th>\n",
       "      <td>6</td>\n",
       "      <td>7.377</td>\n",
       "      <td>1.503945</td>\n",
       "      <td>1.428939</td>\n",
       "      <td>0.810696</td>\n",
       "      <td>0.585384</td>\n",
       "      <td>0.470490</td>\n",
       "      <td>0.282662</td>\n",
       "      <td>2.294804</td>\n",
       "      <td>93.8</td>\n",
       "      <td>Western Europe</td>\n",
       "    </tr>\n",
       "    <tr>\n",
       "      <th>Canada</th>\n",
       "      <td>7</td>\n",
       "      <td>7.316</td>\n",
       "      <td>1.479204</td>\n",
       "      <td>1.481349</td>\n",
       "      <td>0.834558</td>\n",
       "      <td>0.611101</td>\n",
       "      <td>0.435540</td>\n",
       "      <td>0.287372</td>\n",
       "      <td>2.187264</td>\n",
       "      <td>90.5</td>\n",
       "      <td>North America</td>\n",
       "    </tr>\n",
       "    <tr>\n",
       "      <th>New Zealand</th>\n",
       "      <td>8</td>\n",
       "      <td>7.314</td>\n",
       "      <td>1.405706</td>\n",
       "      <td>1.548195</td>\n",
       "      <td>0.816760</td>\n",
       "      <td>0.614062</td>\n",
       "      <td>0.500005</td>\n",
       "      <td>0.382817</td>\n",
       "      <td>2.046456</td>\n",
       "      <td>88.6</td>\n",
       "      <td>Asia-Pacific</td>\n",
       "    </tr>\n",
       "    <tr>\n",
       "      <th>Sweden</th>\n",
       "      <td>9</td>\n",
       "      <td>7.284</td>\n",
       "      <td>1.494387</td>\n",
       "      <td>1.478162</td>\n",
       "      <td>0.830875</td>\n",
       "      <td>0.612924</td>\n",
       "      <td>0.385399</td>\n",
       "      <td>0.384399</td>\n",
       "      <td>2.097538</td>\n",
       "      <td>92.7</td>\n",
       "      <td>Western Europe</td>\n",
       "    </tr>\n",
       "    <tr>\n",
       "      <th>Australia</th>\n",
       "      <td>10</td>\n",
       "      <td>7.284</td>\n",
       "      <td>1.484415</td>\n",
       "      <td>1.510042</td>\n",
       "      <td>0.843887</td>\n",
       "      <td>0.601607</td>\n",
       "      <td>0.477699</td>\n",
       "      <td>0.301184</td>\n",
       "      <td>2.065211</td>\n",
       "      <td>89.2</td>\n",
       "      <td>Asia-Pacific</td>\n",
       "    </tr>\n",
       "  </tbody>\n",
       "</table>\n",
       "</div>"
      ],
      "text/plain": [
       "             Happiness Rank  Happiness Score   Economy    Family    Health  \\\n",
       "Country                                                                      \n",
       "Norway                    1            7.537  1.616463  1.533524  0.796667   \n",
       "Denmark                   2            7.522  1.482383  1.551122  0.792566   \n",
       "Iceland                   3            7.504  1.480633  1.610574  0.833552   \n",
       "Switzerland               4            7.494  1.564980  1.516912  0.858131   \n",
       "Finland                   5            7.469  1.443572  1.540247  0.809158   \n",
       "Netherlands               6            7.377  1.503945  1.428939  0.810696   \n",
       "Canada                    7            7.316  1.479204  1.481349  0.834558   \n",
       "New Zealand               8            7.314  1.405706  1.548195  0.816760   \n",
       "Sweden                    9            7.284  1.494387  1.478162  0.830875   \n",
       "Australia                10            7.284  1.484415  1.510042  0.843887   \n",
       "\n",
       "              Freedom  Generosity  Corruption  Dystopia  Job Satisfaction  \\\n",
       "Country                                                                     \n",
       "Norway       0.635423    0.362012    0.315964  2.277027              94.6   \n",
       "Denmark      0.626007    0.355280    0.400770  2.313707              93.5   \n",
       "Iceland      0.627163    0.475540    0.153527  2.322715              94.5   \n",
       "Switzerland  0.620071    0.290549    0.367007  2.276716              93.7   \n",
       "Finland      0.617951    0.245483    0.382612  2.430182              91.2   \n",
       "Netherlands  0.585384    0.470490    0.282662  2.294804              93.8   \n",
       "Canada       0.611101    0.435540    0.287372  2.187264              90.5   \n",
       "New Zealand  0.614062    0.500005    0.382817  2.046456              88.6   \n",
       "Sweden       0.612924    0.385399    0.384399  2.097538              92.7   \n",
       "Australia    0.601607    0.477699    0.301184  2.065211              89.2   \n",
       "\n",
       "                     Region  \n",
       "Country                      \n",
       "Norway       Western Europe  \n",
       "Denmark      Western Europe  \n",
       "Iceland      Western Europe  \n",
       "Switzerland  Western Europe  \n",
       "Finland      Western Europe  \n",
       "Netherlands  Western Europe  \n",
       "Canada        North America  \n",
       "New Zealand    Asia-Pacific  \n",
       "Sweden       Western Europe  \n",
       "Australia      Asia-Pacific  "
      ]
     },
     "execution_count": 15,
     "metadata": {},
     "output_type": "execute_result"
    }
   ],
   "source": [
    "WHR.sort_values(by=\"Happiness Rank\", ascending=True).head(10)"
   ]
  },
  {
   "cell_type": "code",
   "execution_count": 16,
   "id": "sound-puzzle",
   "metadata": {},
   "outputs": [
    {
     "data": {
      "text/html": [
       "<div>\n",
       "<style scoped>\n",
       "    .dataframe tbody tr th:only-of-type {\n",
       "        vertical-align: middle;\n",
       "    }\n",
       "\n",
       "    .dataframe tbody tr th {\n",
       "        vertical-align: top;\n",
       "    }\n",
       "\n",
       "    .dataframe thead th {\n",
       "        text-align: right;\n",
       "    }\n",
       "</style>\n",
       "<table border=\"1\" class=\"dataframe\">\n",
       "  <thead>\n",
       "    <tr style=\"text-align: right;\">\n",
       "      <th></th>\n",
       "      <th>Happiness Rank</th>\n",
       "      <th>Happiness Score</th>\n",
       "      <th>Economy</th>\n",
       "      <th>Family</th>\n",
       "      <th>Health</th>\n",
       "      <th>Freedom</th>\n",
       "      <th>Generosity</th>\n",
       "      <th>Corruption</th>\n",
       "      <th>Dystopia</th>\n",
       "      <th>Job Satisfaction</th>\n",
       "      <th>Region</th>\n",
       "    </tr>\n",
       "    <tr>\n",
       "      <th>Country</th>\n",
       "      <th></th>\n",
       "      <th></th>\n",
       "      <th></th>\n",
       "      <th></th>\n",
       "      <th></th>\n",
       "      <th></th>\n",
       "      <th></th>\n",
       "      <th></th>\n",
       "      <th></th>\n",
       "      <th></th>\n",
       "      <th></th>\n",
       "    </tr>\n",
       "  </thead>\n",
       "  <tbody>\n",
       "    <tr>\n",
       "      <th>Central African Republic</th>\n",
       "      <td>155</td>\n",
       "      <td>2.693</td>\n",
       "      <td>0.000000</td>\n",
       "      <td>0.000000</td>\n",
       "      <td>0.018773</td>\n",
       "      <td>0.270842</td>\n",
       "      <td>0.280876</td>\n",
       "      <td>0.056565</td>\n",
       "      <td>2.066005</td>\n",
       "      <td>70.4</td>\n",
       "      <td>Africa</td>\n",
       "    </tr>\n",
       "    <tr>\n",
       "      <th>Burundi</th>\n",
       "      <td>154</td>\n",
       "      <td>2.905</td>\n",
       "      <td>0.091623</td>\n",
       "      <td>0.629794</td>\n",
       "      <td>0.151611</td>\n",
       "      <td>0.059901</td>\n",
       "      <td>0.204435</td>\n",
       "      <td>0.084148</td>\n",
       "      <td>1.683024</td>\n",
       "      <td>54.3</td>\n",
       "      <td>Africa</td>\n",
       "    </tr>\n",
       "    <tr>\n",
       "      <th>Tanzania</th>\n",
       "      <td>153</td>\n",
       "      <td>3.349</td>\n",
       "      <td>0.511136</td>\n",
       "      <td>1.041990</td>\n",
       "      <td>0.364509</td>\n",
       "      <td>0.390018</td>\n",
       "      <td>0.354256</td>\n",
       "      <td>0.066035</td>\n",
       "      <td>0.621130</td>\n",
       "      <td>57.8</td>\n",
       "      <td>Africa</td>\n",
       "    </tr>\n",
       "    <tr>\n",
       "      <th>Syria</th>\n",
       "      <td>152</td>\n",
       "      <td>3.462</td>\n",
       "      <td>0.777153</td>\n",
       "      <td>0.396103</td>\n",
       "      <td>0.500533</td>\n",
       "      <td>0.081539</td>\n",
       "      <td>0.493664</td>\n",
       "      <td>0.151347</td>\n",
       "      <td>1.061574</td>\n",
       "      <td>62.7</td>\n",
       "      <td>Asia-Pacific</td>\n",
       "    </tr>\n",
       "    <tr>\n",
       "      <th>Rwanda</th>\n",
       "      <td>151</td>\n",
       "      <td>3.471</td>\n",
       "      <td>0.368746</td>\n",
       "      <td>0.945707</td>\n",
       "      <td>0.326425</td>\n",
       "      <td>0.581844</td>\n",
       "      <td>0.252756</td>\n",
       "      <td>0.455220</td>\n",
       "      <td>0.540061</td>\n",
       "      <td>51.7</td>\n",
       "      <td>Africa</td>\n",
       "    </tr>\n",
       "    <tr>\n",
       "      <th>Togo</th>\n",
       "      <td>150</td>\n",
       "      <td>3.495</td>\n",
       "      <td>0.305445</td>\n",
       "      <td>0.431883</td>\n",
       "      <td>0.247106</td>\n",
       "      <td>0.380426</td>\n",
       "      <td>0.196896</td>\n",
       "      <td>0.095665</td>\n",
       "      <td>1.837229</td>\n",
       "      <td>44.8</td>\n",
       "      <td>Africa</td>\n",
       "    </tr>\n",
       "    <tr>\n",
       "      <th>Guinea</th>\n",
       "      <td>149</td>\n",
       "      <td>3.507</td>\n",
       "      <td>0.244550</td>\n",
       "      <td>0.791245</td>\n",
       "      <td>0.194129</td>\n",
       "      <td>0.348588</td>\n",
       "      <td>0.264815</td>\n",
       "      <td>0.110938</td>\n",
       "      <td>1.552312</td>\n",
       "      <td>55.1</td>\n",
       "      <td>Africa</td>\n",
       "    </tr>\n",
       "    <tr>\n",
       "      <th>Liberia</th>\n",
       "      <td>148</td>\n",
       "      <td>3.533</td>\n",
       "      <td>0.119042</td>\n",
       "      <td>0.872118</td>\n",
       "      <td>0.229918</td>\n",
       "      <td>0.332881</td>\n",
       "      <td>0.266550</td>\n",
       "      <td>0.038948</td>\n",
       "      <td>1.673286</td>\n",
       "      <td>56.6</td>\n",
       "      <td>Africa</td>\n",
       "    </tr>\n",
       "    <tr>\n",
       "      <th>Yemen</th>\n",
       "      <td>146</td>\n",
       "      <td>3.593</td>\n",
       "      <td>0.591683</td>\n",
       "      <td>0.935382</td>\n",
       "      <td>0.310081</td>\n",
       "      <td>0.249464</td>\n",
       "      <td>0.104125</td>\n",
       "      <td>0.056767</td>\n",
       "      <td>1.345601</td>\n",
       "      <td>58.9</td>\n",
       "      <td>Asia-Pacific</td>\n",
       "    </tr>\n",
       "    <tr>\n",
       "      <th>Haiti</th>\n",
       "      <td>145</td>\n",
       "      <td>3.603</td>\n",
       "      <td>0.368610</td>\n",
       "      <td>0.640450</td>\n",
       "      <td>0.277321</td>\n",
       "      <td>0.030370</td>\n",
       "      <td>0.489204</td>\n",
       "      <td>0.099872</td>\n",
       "      <td>1.697168</td>\n",
       "      <td>48.5</td>\n",
       "      <td>Latin America</td>\n",
       "    </tr>\n",
       "  </tbody>\n",
       "</table>\n",
       "</div>"
      ],
      "text/plain": [
       "                          Happiness Rank  Happiness Score   Economy    Family  \\\n",
       "Country                                                                         \n",
       "Central African Republic             155            2.693  0.000000  0.000000   \n",
       "Burundi                              154            2.905  0.091623  0.629794   \n",
       "Tanzania                             153            3.349  0.511136  1.041990   \n",
       "Syria                                152            3.462  0.777153  0.396103   \n",
       "Rwanda                               151            3.471  0.368746  0.945707   \n",
       "Togo                                 150            3.495  0.305445  0.431883   \n",
       "Guinea                               149            3.507  0.244550  0.791245   \n",
       "Liberia                              148            3.533  0.119042  0.872118   \n",
       "Yemen                                146            3.593  0.591683  0.935382   \n",
       "Haiti                                145            3.603  0.368610  0.640450   \n",
       "\n",
       "                            Health   Freedom  Generosity  Corruption  \\\n",
       "Country                                                                \n",
       "Central African Republic  0.018773  0.270842    0.280876    0.056565   \n",
       "Burundi                   0.151611  0.059901    0.204435    0.084148   \n",
       "Tanzania                  0.364509  0.390018    0.354256    0.066035   \n",
       "Syria                     0.500533  0.081539    0.493664    0.151347   \n",
       "Rwanda                    0.326425  0.581844    0.252756    0.455220   \n",
       "Togo                      0.247106  0.380426    0.196896    0.095665   \n",
       "Guinea                    0.194129  0.348588    0.264815    0.110938   \n",
       "Liberia                   0.229918  0.332881    0.266550    0.038948   \n",
       "Yemen                     0.310081  0.249464    0.104125    0.056767   \n",
       "Haiti                     0.277321  0.030370    0.489204    0.099872   \n",
       "\n",
       "                          Dystopia  Job Satisfaction         Region  \n",
       "Country                                                              \n",
       "Central African Republic  2.066005              70.4         Africa  \n",
       "Burundi                   1.683024              54.3         Africa  \n",
       "Tanzania                  0.621130              57.8         Africa  \n",
       "Syria                     1.061574              62.7   Asia-Pacific  \n",
       "Rwanda                    0.540061              51.7         Africa  \n",
       "Togo                      1.837229              44.8         Africa  \n",
       "Guinea                    1.552312              55.1         Africa  \n",
       "Liberia                   1.673286              56.6         Africa  \n",
       "Yemen                     1.345601              58.9   Asia-Pacific  \n",
       "Haiti                     1.697168              48.5  Latin America  "
      ]
     },
     "execution_count": 16,
     "metadata": {},
     "output_type": "execute_result"
    }
   ],
   "source": [
    "WHR.sort_values(by=\"Happiness Rank\", ascending=False).head(10)"
   ]
  },
  {
   "cell_type": "code",
   "execution_count": 17,
   "id": "harmful-pixel",
   "metadata": {},
   "outputs": [],
   "source": [
    "WHR_Region = WHR.groupby('Region')"
   ]
  },
  {
   "cell_type": "code",
   "execution_count": 18,
   "id": "fabulous-paper",
   "metadata": {},
   "outputs": [
    {
     "data": {
      "text/html": [
       "<div>\n",
       "<style scoped>\n",
       "    .dataframe tbody tr th:only-of-type {\n",
       "        vertical-align: middle;\n",
       "    }\n",
       "\n",
       "    .dataframe tbody tr th {\n",
       "        vertical-align: top;\n",
       "    }\n",
       "\n",
       "    .dataframe thead th {\n",
       "        text-align: right;\n",
       "    }\n",
       "</style>\n",
       "<table border=\"1\" class=\"dataframe\">\n",
       "  <thead>\n",
       "    <tr style=\"text-align: right;\">\n",
       "      <th></th>\n",
       "      <th>count</th>\n",
       "      <th>mean</th>\n",
       "      <th>std</th>\n",
       "      <th>min</th>\n",
       "      <th>25%</th>\n",
       "      <th>50%</th>\n",
       "      <th>75%</th>\n",
       "      <th>max</th>\n",
       "    </tr>\n",
       "    <tr>\n",
       "      <th>Region</th>\n",
       "      <th></th>\n",
       "      <th></th>\n",
       "      <th></th>\n",
       "      <th></th>\n",
       "      <th></th>\n",
       "      <th></th>\n",
       "      <th></th>\n",
       "      <th></th>\n",
       "    </tr>\n",
       "  </thead>\n",
       "  <tbody>\n",
       "    <tr>\n",
       "      <th>Europe</th>\n",
       "      <td>1.0</td>\n",
       "      <td>4.096000</td>\n",
       "      <td>NaN</td>\n",
       "      <td>4.096</td>\n",
       "      <td>4.09600</td>\n",
       "      <td>4.0960</td>\n",
       "      <td>4.09600</td>\n",
       "      <td>4.096</td>\n",
       "    </tr>\n",
       "    <tr>\n",
       "      <th>Africa</th>\n",
       "      <td>43.0</td>\n",
       "      <td>4.254581</td>\n",
       "      <td>0.682470</td>\n",
       "      <td>2.693</td>\n",
       "      <td>3.80150</td>\n",
       "      <td>4.1900</td>\n",
       "      <td>4.63450</td>\n",
       "      <td>5.872</td>\n",
       "    </tr>\n",
       "    <tr>\n",
       "      <th>Asia-Pacific</th>\n",
       "      <td>43.0</td>\n",
       "      <td>5.358326</td>\n",
       "      <td>0.955062</td>\n",
       "      <td>3.462</td>\n",
       "      <td>4.65000</td>\n",
       "      <td>5.2690</td>\n",
       "      <td>6.02750</td>\n",
       "      <td>7.314</td>\n",
       "    </tr>\n",
       "    <tr>\n",
       "      <th>Eastern Europe</th>\n",
       "      <td>21.0</td>\n",
       "      <td>5.498952</td>\n",
       "      <td>0.402033</td>\n",
       "      <td>4.644</td>\n",
       "      <td>5.23700</td>\n",
       "      <td>5.5690</td>\n",
       "      <td>5.83800</td>\n",
       "      <td>6.098</td>\n",
       "    </tr>\n",
       "    <tr>\n",
       "      <th>Latin America</th>\n",
       "      <td>22.0</td>\n",
       "      <td>5.957818</td>\n",
       "      <td>0.750925</td>\n",
       "      <td>3.603</td>\n",
       "      <td>5.54850</td>\n",
       "      <td>6.0395</td>\n",
       "      <td>6.45400</td>\n",
       "      <td>7.079</td>\n",
       "    </tr>\n",
       "    <tr>\n",
       "      <th>Western Europe</th>\n",
       "      <td>19.0</td>\n",
       "      <td>6.880474</td>\n",
       "      <td>0.611070</td>\n",
       "      <td>5.195</td>\n",
       "      <td>6.56800</td>\n",
       "      <td>6.9510</td>\n",
       "      <td>7.42300</td>\n",
       "      <td>7.537</td>\n",
       "    </tr>\n",
       "    <tr>\n",
       "      <th>North America</th>\n",
       "      <td>2.0</td>\n",
       "      <td>7.154500</td>\n",
       "      <td>0.228395</td>\n",
       "      <td>6.993</td>\n",
       "      <td>7.07375</td>\n",
       "      <td>7.1545</td>\n",
       "      <td>7.23525</td>\n",
       "      <td>7.316</td>\n",
       "    </tr>\n",
       "  </tbody>\n",
       "</table>\n",
       "</div>"
      ],
      "text/plain": [
       "                count      mean       std    min      25%     50%      75%  \\\n",
       "Region                                                                       \n",
       "Europe            1.0  4.096000       NaN  4.096  4.09600  4.0960  4.09600   \n",
       "Africa           43.0  4.254581  0.682470  2.693  3.80150  4.1900  4.63450   \n",
       "Asia-Pacific     43.0  5.358326  0.955062  3.462  4.65000  5.2690  6.02750   \n",
       "Eastern Europe   21.0  5.498952  0.402033  4.644  5.23700  5.5690  5.83800   \n",
       "Latin America    22.0  5.957818  0.750925  3.603  5.54850  6.0395  6.45400   \n",
       "Western Europe   19.0  6.880474  0.611070  5.195  6.56800  6.9510  7.42300   \n",
       "North America     2.0  7.154500  0.228395  6.993  7.07375  7.1545  7.23525   \n",
       "\n",
       "                  max  \n",
       "Region                 \n",
       "Europe          4.096  \n",
       "Africa          5.872  \n",
       "Asia-Pacific    7.314  \n",
       "Eastern Europe  6.098  \n",
       "Latin America   7.079  \n",
       "Western Europe  7.537  \n",
       "North America   7.316  "
      ]
     },
     "execution_count": 18,
     "metadata": {},
     "output_type": "execute_result"
    }
   ],
   "source": [
    "WHR_Region['Happiness Score'].describe().sort_values(by=\"mean\",ascending=True).head(10)"
   ]
  },
  {
   "cell_type": "code",
   "execution_count": 19,
   "id": "random-appreciation",
   "metadata": {},
   "outputs": [
    {
     "data": {
      "text/html": [
       "<div>\n",
       "<style scoped>\n",
       "    .dataframe tbody tr th:only-of-type {\n",
       "        vertical-align: middle;\n",
       "    }\n",
       "\n",
       "    .dataframe tbody tr th {\n",
       "        vertical-align: top;\n",
       "    }\n",
       "\n",
       "    .dataframe thead th {\n",
       "        text-align: right;\n",
       "    }\n",
       "</style>\n",
       "<table border=\"1\" class=\"dataframe\">\n",
       "  <thead>\n",
       "    <tr style=\"text-align: right;\">\n",
       "      <th></th>\n",
       "      <th>Happiness Rank</th>\n",
       "      <th>Happiness Score</th>\n",
       "      <th>Economy</th>\n",
       "      <th>Family</th>\n",
       "      <th>Health</th>\n",
       "      <th>Freedom</th>\n",
       "      <th>Generosity</th>\n",
       "      <th>Corruption</th>\n",
       "      <th>Dystopia</th>\n",
       "      <th>Job Satisfaction</th>\n",
       "      <th>Region</th>\n",
       "    </tr>\n",
       "    <tr>\n",
       "      <th>Country</th>\n",
       "      <th></th>\n",
       "      <th></th>\n",
       "      <th></th>\n",
       "      <th></th>\n",
       "      <th></th>\n",
       "      <th></th>\n",
       "      <th></th>\n",
       "      <th></th>\n",
       "      <th></th>\n",
       "      <th></th>\n",
       "      <th></th>\n",
       "    </tr>\n",
       "  </thead>\n",
       "  <tbody>\n",
       "    <tr>\n",
       "      <th>Ukraine</th>\n",
       "      <td>132</td>\n",
       "      <td>4.096</td>\n",
       "      <td>0.894652</td>\n",
       "      <td>1.394538</td>\n",
       "      <td>0.575904</td>\n",
       "      <td>0.122975</td>\n",
       "      <td>0.270061</td>\n",
       "      <td>0.023029</td>\n",
       "      <td>0.814382</td>\n",
       "      <td>72.3</td>\n",
       "      <td>Europe</td>\n",
       "    </tr>\n",
       "  </tbody>\n",
       "</table>\n",
       "</div>"
      ],
      "text/plain": [
       "         Happiness Rank  Happiness Score   Economy    Family    Health  \\\n",
       "Country                                                                  \n",
       "Ukraine             132            4.096  0.894652  1.394538  0.575904   \n",
       "\n",
       "          Freedom  Generosity  Corruption  Dystopia  Job Satisfaction  Region  \n",
       "Country                                                                        \n",
       "Ukraine  0.122975    0.270061    0.023029  0.814382              72.3  Europe  "
      ]
     },
     "execution_count": 19,
     "metadata": {},
     "output_type": "execute_result"
    }
   ],
   "source": [
    "WHR[WHR[\"Region\"]==\"Europe\"].head()"
   ]
  },
  {
   "cell_type": "code",
   "execution_count": 20,
   "id": "voluntary-chocolate",
   "metadata": {},
   "outputs": [],
   "source": [
    "WHR = WHR.replace('Europe', 'Eastern Europe')"
   ]
  },
  {
   "cell_type": "code",
   "execution_count": 21,
   "id": "hundred-prison",
   "metadata": {},
   "outputs": [
    {
     "data": {
      "text/html": [
       "<div>\n",
       "<style scoped>\n",
       "    .dataframe tbody tr th:only-of-type {\n",
       "        vertical-align: middle;\n",
       "    }\n",
       "\n",
       "    .dataframe tbody tr th {\n",
       "        vertical-align: top;\n",
       "    }\n",
       "\n",
       "    .dataframe thead th {\n",
       "        text-align: right;\n",
       "    }\n",
       "</style>\n",
       "<table border=\"1\" class=\"dataframe\">\n",
       "  <thead>\n",
       "    <tr style=\"text-align: right;\">\n",
       "      <th></th>\n",
       "      <th>count</th>\n",
       "      <th>mean</th>\n",
       "      <th>std</th>\n",
       "      <th>min</th>\n",
       "      <th>25%</th>\n",
       "      <th>50%</th>\n",
       "      <th>75%</th>\n",
       "      <th>max</th>\n",
       "    </tr>\n",
       "    <tr>\n",
       "      <th>Region</th>\n",
       "      <th></th>\n",
       "      <th></th>\n",
       "      <th></th>\n",
       "      <th></th>\n",
       "      <th></th>\n",
       "      <th></th>\n",
       "      <th></th>\n",
       "      <th></th>\n",
       "    </tr>\n",
       "  </thead>\n",
       "  <tbody>\n",
       "    <tr>\n",
       "      <th>North America</th>\n",
       "      <td>2.0</td>\n",
       "      <td>7.154500</td>\n",
       "      <td>0.228395</td>\n",
       "      <td>6.993</td>\n",
       "      <td>7.07375</td>\n",
       "      <td>7.1545</td>\n",
       "      <td>7.23525</td>\n",
       "      <td>7.316</td>\n",
       "    </tr>\n",
       "    <tr>\n",
       "      <th>Western Europe</th>\n",
       "      <td>19.0</td>\n",
       "      <td>6.880474</td>\n",
       "      <td>0.611070</td>\n",
       "      <td>5.195</td>\n",
       "      <td>6.56800</td>\n",
       "      <td>6.9510</td>\n",
       "      <td>7.42300</td>\n",
       "      <td>7.537</td>\n",
       "    </tr>\n",
       "    <tr>\n",
       "      <th>Latin America</th>\n",
       "      <td>22.0</td>\n",
       "      <td>5.957818</td>\n",
       "      <td>0.750925</td>\n",
       "      <td>3.603</td>\n",
       "      <td>5.54850</td>\n",
       "      <td>6.0395</td>\n",
       "      <td>6.45400</td>\n",
       "      <td>7.079</td>\n",
       "    </tr>\n",
       "    <tr>\n",
       "      <th>Eastern Europe</th>\n",
       "      <td>21.0</td>\n",
       "      <td>5.498952</td>\n",
       "      <td>0.402033</td>\n",
       "      <td>4.644</td>\n",
       "      <td>5.23700</td>\n",
       "      <td>5.5690</td>\n",
       "      <td>5.83800</td>\n",
       "      <td>6.098</td>\n",
       "    </tr>\n",
       "    <tr>\n",
       "      <th>Asia-Pacific</th>\n",
       "      <td>43.0</td>\n",
       "      <td>5.358326</td>\n",
       "      <td>0.955062</td>\n",
       "      <td>3.462</td>\n",
       "      <td>4.65000</td>\n",
       "      <td>5.2690</td>\n",
       "      <td>6.02750</td>\n",
       "      <td>7.314</td>\n",
       "    </tr>\n",
       "    <tr>\n",
       "      <th>Africa</th>\n",
       "      <td>43.0</td>\n",
       "      <td>4.254581</td>\n",
       "      <td>0.682470</td>\n",
       "      <td>2.693</td>\n",
       "      <td>3.80150</td>\n",
       "      <td>4.1900</td>\n",
       "      <td>4.63450</td>\n",
       "      <td>5.872</td>\n",
       "    </tr>\n",
       "    <tr>\n",
       "      <th>Europe</th>\n",
       "      <td>1.0</td>\n",
       "      <td>4.096000</td>\n",
       "      <td>NaN</td>\n",
       "      <td>4.096</td>\n",
       "      <td>4.09600</td>\n",
       "      <td>4.0960</td>\n",
       "      <td>4.09600</td>\n",
       "      <td>4.096</td>\n",
       "    </tr>\n",
       "  </tbody>\n",
       "</table>\n",
       "</div>"
      ],
      "text/plain": [
       "                count      mean       std    min      25%     50%      75%  \\\n",
       "Region                                                                       \n",
       "North America     2.0  7.154500  0.228395  6.993  7.07375  7.1545  7.23525   \n",
       "Western Europe   19.0  6.880474  0.611070  5.195  6.56800  6.9510  7.42300   \n",
       "Latin America    22.0  5.957818  0.750925  3.603  5.54850  6.0395  6.45400   \n",
       "Eastern Europe   21.0  5.498952  0.402033  4.644  5.23700  5.5690  5.83800   \n",
       "Asia-Pacific     43.0  5.358326  0.955062  3.462  4.65000  5.2690  6.02750   \n",
       "Africa           43.0  4.254581  0.682470  2.693  3.80150  4.1900  4.63450   \n",
       "Europe            1.0  4.096000       NaN  4.096  4.09600  4.0960  4.09600   \n",
       "\n",
       "                  max  \n",
       "Region                 \n",
       "North America   7.316  \n",
       "Western Europe  7.537  \n",
       "Latin America   7.079  \n",
       "Eastern Europe  6.098  \n",
       "Asia-Pacific    7.314  \n",
       "Africa          5.872  \n",
       "Europe          4.096  "
      ]
     },
     "execution_count": 21,
     "metadata": {},
     "output_type": "execute_result"
    }
   ],
   "source": [
    "WHR_Region['Happiness Score'].describe().sort_values(by=\"mean\",ascending=False).head(10)"
   ]
  },
  {
   "cell_type": "code",
   "execution_count": 22,
   "id": "mature-durham",
   "metadata": {},
   "outputs": [],
   "source": [
    "WHR_A = WHR[WHR['Region'] == 'Africa']\n",
    "WHR_WE = WHR[WHR['Region'] == 'Western Europe']\n",
    "WHR_EE = WHR[WHR['Region'] == 'Eastern Europe']\n",
    "WHR_LA = WHR[WHR['Region'] == 'Latin America']\n",
    "WHR_AP = WHR[WHR['Region'] == 'Asia-Pacific']\n",
    "WHR_NA = WHR[WHR['Region'] == 'North America']"
   ]
  },
  {
   "cell_type": "code",
   "execution_count": 23,
   "id": "dramatic-tamil",
   "metadata": {},
   "outputs": [
    {
     "data": {
      "text/plain": [
       "0"
      ]
     },
     "execution_count": 23,
     "metadata": {},
     "output_type": "execute_result"
    }
   ],
   "source": [
    "len(WHR_A[WHR_A['Happiness Score'] > 6])"
   ]
  },
  {
   "cell_type": "code",
   "execution_count": 24,
   "id": "multiple-remedy",
   "metadata": {},
   "outputs": [
    {
     "name": "stdout",
     "output_type": "stream",
     "text": [
      "There are 0 countries in Africa that have a happiness score above 6.0 \n"
     ]
    }
   ],
   "source": [
    "print(\"There are {} countries in Africa that have a happiness score above 6.0 \".format(len(WHR_A[WHR_A['Happiness Score'] > 6])))"
   ]
  },
  {
   "cell_type": "code",
   "execution_count": 25,
   "id": "searching-enough",
   "metadata": {},
   "outputs": [
    {
     "data": {
      "text/plain": [
       "17"
      ]
     },
     "execution_count": 25,
     "metadata": {},
     "output_type": "execute_result"
    }
   ],
   "source": [
    "len(WHR_WE[WHR_WE['Happiness Score'] > 6])"
   ]
  },
  {
   "cell_type": "code",
   "execution_count": 26,
   "id": "advisory-clock",
   "metadata": {},
   "outputs": [
    {
     "name": "stdout",
     "output_type": "stream",
     "text": [
      "There are 17 countries in Western Europe that have a happiness score above 6.0 \n"
     ]
    }
   ],
   "source": [
    "print(\"There are {} countries in Western Europe that have a happiness score above 6.0 \".format(len(WHR_WE[WHR_WE['Happiness Score'] > 6])))"
   ]
  },
  {
   "cell_type": "code",
   "execution_count": 27,
   "id": "exotic-glucose",
   "metadata": {},
   "outputs": [
    {
     "data": {
      "text/plain": [
       "1"
      ]
     },
     "execution_count": 27,
     "metadata": {},
     "output_type": "execute_result"
    }
   ],
   "source": [
    "len(WHR_EE[WHR_EE['Happiness Score'] > 6])"
   ]
  },
  {
   "cell_type": "code",
   "execution_count": 28,
   "id": "incomplete-identity",
   "metadata": {},
   "outputs": [
    {
     "name": "stdout",
     "output_type": "stream",
     "text": [
      "There is 1 country in Eastern Europe that has a happiness score above 6.0 \n"
     ]
    }
   ],
   "source": [
    "print(\"There is {} country in Eastern Europe that has a happiness score above 6.0 \".format(len(WHR_EE[WHR_EE['Happiness Score'] > 6])))"
   ]
  },
  {
   "cell_type": "code",
   "execution_count": 29,
   "id": "rural-scenario",
   "metadata": {},
   "outputs": [
    {
     "data": {
      "text/plain": [
       "11"
      ]
     },
     "execution_count": 29,
     "metadata": {},
     "output_type": "execute_result"
    }
   ],
   "source": [
    "len(WHR_AP[WHR_AP['Happiness Score'] > 6])"
   ]
  },
  {
   "cell_type": "code",
   "execution_count": 30,
   "id": "solved-pepper",
   "metadata": {},
   "outputs": [
    {
     "name": "stdout",
     "output_type": "stream",
     "text": [
      "There are 11 countries in the Asia Pacific that have a happiness score above 6.0 \n"
     ]
    }
   ],
   "source": [
    "print(\"There are {} countries in the Asia Pacific that have a happiness score above 6.0 \".format(len(WHR_AP[WHR_AP['Happiness Score'] > 6])))"
   ]
  },
  {
   "cell_type": "code",
   "execution_count": 31,
   "id": "clean-health",
   "metadata": {},
   "outputs": [
    {
     "data": {
      "text/plain": [
       "13"
      ]
     },
     "execution_count": 31,
     "metadata": {},
     "output_type": "execute_result"
    }
   ],
   "source": [
    "len(WHR_LA[WHR_LA['Happiness Score'] > 6])"
   ]
  },
  {
   "cell_type": "code",
   "execution_count": 32,
   "id": "blank-operations",
   "metadata": {},
   "outputs": [
    {
     "name": "stdout",
     "output_type": "stream",
     "text": [
      "There are 13 countries in the Latin America that have a happiness score above 6.0 \n"
     ]
    }
   ],
   "source": [
    "print(\"There are {} countries in the Latin America that have a happiness score above 6.0 \".format(len(WHR_LA[WHR_LA['Happiness Score'] > 6])))"
   ]
  },
  {
   "cell_type": "code",
   "execution_count": 33,
   "id": "novel-pottery",
   "metadata": {},
   "outputs": [
    {
     "data": {
      "text/plain": [
       "2"
      ]
     },
     "execution_count": 33,
     "metadata": {},
     "output_type": "execute_result"
    }
   ],
   "source": [
    "len(WHR_NA[WHR_NA['Happiness Score'] > 6])"
   ]
  },
  {
   "cell_type": "code",
   "execution_count": 34,
   "id": "damaged-humanity",
   "metadata": {},
   "outputs": [
    {
     "name": "stdout",
     "output_type": "stream",
     "text": [
      "There are 2 countries in the North America that have a happiness score above 6.0 \n"
     ]
    }
   ],
   "source": [
    "print(\"There are {} countries in the North America that have a happiness score above 6.0 \".format(len(WHR_NA[WHR_NA['Happiness Score'] > 6])))"
   ]
  },
  {
   "cell_type": "code",
   "execution_count": 35,
   "id": "buried-diversity",
   "metadata": {},
   "outputs": [
    {
     "name": "stdout",
     "output_type": "stream",
     "text": [
      "0.32299995400000014\n"
     ]
    }
   ],
   "source": [
    "Delta_NA = WHR_NA.max(axis=0)['Happiness Score'] - WHR_NA.min(axis=0)['Happiness Score']\n",
    "print(Delta_NA)"
   ]
  },
  {
   "cell_type": "code",
   "execution_count": 36,
   "id": "broken-equality",
   "metadata": {},
   "outputs": [
    {
     "name": "stdout",
     "output_type": "stream",
     "text": [
      "2.0019998549999993\n"
     ]
    }
   ],
   "source": [
    "Delta_EE = WHR_EE.max(axis=0)['Happiness Score'] - WHR_EE.min(axis=0)['Happiness Score']\n",
    "print(Delta_EE)"
   ]
  },
  {
   "cell_type": "code",
   "execution_count": 37,
   "id": "hawaiian-convertible",
   "metadata": {},
   "outputs": [
    {
     "name": "stdout",
     "output_type": "stream",
     "text": [
      "2.3420000069999993\n"
     ]
    }
   ],
   "source": [
    "Delta_WE = WHR_WE.max(axis=0)['Happiness Score'] - WHR_WE.min(axis=0)['Happiness Score']\n",
    "print(Delta_WE)"
   ]
  },
  {
   "cell_type": "code",
   "execution_count": 38,
   "id": "plain-salmon",
   "metadata": {},
   "outputs": [
    {
     "name": "stdout",
     "output_type": "stream",
     "text": [
      "3.1790001390000002\n"
     ]
    }
   ],
   "source": [
    "Delta_A = WHR_A.max(axis=0)['Happiness Score'] - WHR_A.min(axis=0)['Happiness Score']\n",
    "print(Delta_A)"
   ]
  },
  {
   "cell_type": "code",
   "execution_count": 39,
   "id": "comfortable-exhibit",
   "metadata": {},
   "outputs": [
    {
     "name": "stdout",
     "output_type": "stream",
     "text": [
      "3.4760000700000004\n"
     ]
    }
   ],
   "source": [
    "Delta_LA = WHR_LA.max(axis=0)['Happiness Score'] - WHR_LA.min(axis=0)['Happiness Score']\n",
    "print(Delta_LA)"
   ]
  },
  {
   "cell_type": "code",
   "execution_count": 40,
   "id": "offshore-balloon",
   "metadata": {},
   "outputs": [
    {
     "name": "stdout",
     "output_type": "stream",
     "text": [
      "3.852000237\n"
     ]
    }
   ],
   "source": [
    "Delta_AP = WHR_AP.max(axis=0)['Happiness Score'] - WHR_AP.min(axis=0)['Happiness Score']\n",
    "print(Delta_AP)"
   ]
  },
  {
   "cell_type": "code",
   "execution_count": 41,
   "id": "another-memphis",
   "metadata": {},
   "outputs": [],
   "source": [
    "Deltas = {}"
   ]
  },
  {
   "cell_type": "code",
   "execution_count": 42,
   "id": "proprietary-reception",
   "metadata": {},
   "outputs": [],
   "source": [
    "Deltas[\"North America\"] = Delta_NA\n",
    "Deltas[\"Eastern Europe\"] = Delta_EE\n",
    "Deltas[\"Western Europe\"] = Delta_WE\n",
    "Deltas[\"Africa\"] = Delta_A\n",
    "Deltas[\"Latin America\"] = Delta_LA\n",
    "Deltas[\"Asia Pacific\"] = Delta_AP"
   ]
  },
  {
   "cell_type": "code",
   "execution_count": 43,
   "id": "amateur-script",
   "metadata": {},
   "outputs": [
    {
     "name": "stdout",
     "output_type": "stream",
     "text": [
      "The Asia Pacific region seems to have the largest range of happiness scores\n"
     ]
    }
   ],
   "source": [
    "print(\"The {} region seems to have the largest range of happiness scores\".format(max(Deltas, key=Deltas.get)))"
   ]
  },
  {
   "cell_type": "code",
   "execution_count": 44,
   "id": "peaceful-insertion",
   "metadata": {},
   "outputs": [
    {
     "data": {
      "text/plain": [
       "Text(0.5, 1.0, 'Happiness Score of the top 10 Countries')"
      ]
     },
     "execution_count": 44,
     "metadata": {},
     "output_type": "execute_result"
    },
    {
     "data": {
      "image/png": "[encoded data removed]",
      "text/plain": [
       "<Figure size 720x720 with 1 Axes>"
      ]
     },
     "metadata": {
      "needs_background": "light"
     },
     "output_type": "display_data"
    }
   ],
   "source": [
    "WHR['Happiness Score'].head(10).plot(xticks=np.arange(9), kind='barh', figsize= (10, 10))\n",
    "plt.xlabel(\"Happiness Score\")\n",
    "plt.title('Happiness Score of the top 10 Countries')"
   ]
  },
  {
   "cell_type": "code",
   "execution_count": 45,
   "id": "actual-rebecca",
   "metadata": {},
   "outputs": [
    {
     "data": {
      "text/plain": [
       "<matplotlib.legend.Legend at 0xbaa9b61048>"
      ]
     },
     "execution_count": 45,
     "metadata": {},
     "output_type": "execute_result"
    },
    {
     "data": {
      "image/png": "[encoded data removed]",
      "text/plain": [
       "<Figure size 720x720 with 1 Axes>"
      ]
     },
     "metadata": {
      "needs_background": "light"
     },
     "output_type": "display_data"
    }
   ],
   "source": [
    "WHR[['Economy', 'Family','Health', 'Freedom', 'Generosity', 'Corruption', 'Dystopia']].head(10).plot(kind='barh',\n",
    "                                                                xticks=np.arange(9), stacked=True, figsize= (10, 10))\n",
    "\n",
    "plt.xlabel(\"Happiness Score\")\n",
    "plt.title('Happiness Score of the top 10 Countries')\n",
    "plt.legend(bbox_to_anchor=(1.05, 1), loc=2, borderaxespad=0.)"
   ]
  },
  {
   "cell_type": "code",
   "execution_count": 46,
   "id": "negative-encounter",
   "metadata": {},
   "outputs": [
    {
     "data": {
      "text/plain": [
       "<matplotlib.legend.Legend at 0xbaa96f7ef0>"
      ]
     },
     "execution_count": 46,
     "metadata": {},
     "output_type": "execute_result"
    },
    {
     "data": {
      "image/png": "[encoded data removed]",
      "text/plain": [
       "<Figure size 720x720 with 1 Axes>"
      ]
     },
     "metadata": {
      "needs_background": "light"
     },
     "output_type": "display_data"
    }
   ],
   "source": [
    "WHR_A[['Economy', 'Family','Health', 'Freedom', 'Generosity', 'Corruption', 'Dystopia']].head(10).plot(kind='barh',\n",
    "                                                                xticks=np.arange(9), stacked=True, figsize= (10, 10))\n",
    "\n",
    "plt.xlabel(\"Happiness Score\")\n",
    "plt.title('Happiness Score of the top 10 Countries')\n",
    "plt.legend(bbox_to_anchor=(1.05, 1), loc=2, borderaxespad=0.)"
   ]
  },
  {
   "cell_type": "markdown",
   "id": "suspected-convenience",
   "metadata": {},
   "source": [
    "# Histogram to job satisfaction"
   ]
  },
  {
   "cell_type": "code",
   "execution_count": 47,
   "id": "ready-stick",
   "metadata": {},
   "outputs": [
    {
     "data": {
      "text/plain": [
       "Text(0.5, 1.0, 'Distribution of Job Satisfaction')"
      ]
     },
     "execution_count": 47,
     "metadata": {},
     "output_type": "execute_result"
    },
    {
     "data": {
      "image/png": "[encoded data removed]",
      "text/plain": [
       "<Figure size 720x720 with 1 Axes>"
      ]
     },
     "metadata": {
      "needs_background": "light"
     },
     "output_type": "display_data"
    }
   ],
   "source": [
    "WHR['Job Satisfaction'].plot(kind='hist', bins=[ 40, 50, 60, 70, 80, 90, 100], figsize=(10,10))\n",
    "\n",
    "plt.xlabel(\"Job Satisfaction in Percent\")\n",
    "plt.title(\"Distribution of Job Satisfaction\")"
   ]
  },
  {
   "cell_type": "markdown",
   "id": "positive-purpose",
   "metadata": {},
   "source": [
    "# Pairwise scatter plot"
   ]
  },
  {
   "cell_type": "code",
   "execution_count": 48,
   "id": "acquired-thread",
   "metadata": {},
   "outputs": [
    {
     "name": "stderr",
     "output_type": "stream",
     "text": [
      "c:\\users\\admin\\appdata\\local\\programs\\python\\python37\\lib\\site-packages\\seaborn\\axisgrid.py:1969: UserWarning: The `size` parameter has been renamed to `height`; please update your code.\n",
      "  warnings.warn(msg, UserWarning)\n"
     ]
    },
    {
     "data": {
      "text/plain": [
       "<seaborn.axisgrid.PairGrid at 0xbaa9a31390>"
      ]
     },
     "execution_count": 48,
     "metadata": {},
     "output_type": "execute_result"
    },
    {
     "data": {
      "image/png": "[encoded data removed]",
      "text/plain": [
       "<Figure size 360x2520 with 7 Axes>"
      ]
     },
     "metadata": {
      "needs_background": "light"
     },
     "output_type": "display_data"
    }
   ],
   "source": [
    "sns.pairplot(data=WHR, kind='reg', size = 5,\n",
    "                  x_vars=['Happiness Score'],\n",
    "                  y_vars=['Economy', 'Family','Health', 'Freedom', 'Generosity', 'Corruption', 'Dystopia'])"
   ]
  },
  {
   "cell_type": "code",
   "execution_count": 49,
   "id": "prime-poison",
   "metadata": {},
   "outputs": [
    {
     "name": "stderr",
     "output_type": "stream",
     "text": [
      "c:\\users\\admin\\appdata\\local\\programs\\python\\python37\\lib\\site-packages\\seaborn\\axisgrid.py:1969: UserWarning: The `size` parameter has been renamed to `height`; please update your code.\n",
      "  warnings.warn(msg, UserWarning)\n"
     ]
    },
    {
     "data": {
      "text/plain": [
       "<seaborn.axisgrid.PairGrid at 0xbaaa6cd748>"
      ]
     },
     "execution_count": 49,
     "metadata": {},
     "output_type": "execute_result"
    },
    {
     "data": {
      "image/png": "[encoded data removed]",
      "text/plain": [
       "<Figure size 475x2520 with 7 Axes>"
      ]
     },
     "metadata": {
      "needs_background": "light"
     },
     "output_type": "display_data"
    }
   ],
   "source": [
    "sns.pairplot(data=WHR, size = 5, hue='Region',\n",
    "                  x_vars=['Happiness Score'],\n",
    "                  y_vars=['Economy', 'Family','Health', 'Freedom', 'Generosity', 'Corruption', 'Dystopia'])"
   ]
  },
  {
   "cell_type": "markdown",
   "id": "internal-january",
   "metadata": {},
   "source": [
    "# Correlation"
   ]
  },
  {
   "cell_type": "code",
   "execution_count": 50,
   "id": "modern-saturday",
   "metadata": {},
   "outputs": [
    {
     "data": {
      "text/plain": [
       "Happiness Score     1.000000\n",
       "Job Satisfaction    0.812873\n",
       "Economy             0.808678\n",
       "Health              0.777731\n",
       "Family              0.749612\n",
       "Freedom             0.567948\n",
       "Dystopia            0.481117\n",
       "Corruption          0.438262\n",
       "Generosity          0.164123\n",
       "Happiness Rank     -0.992663\n",
       "Name: Happiness Score, dtype: float64"
      ]
     },
     "execution_count": 50,
     "metadata": {},
     "output_type": "execute_result"
    }
   ],
   "source": [
    "WHR.corr(method=\"pearson\", min_periods=20)[\"Happiness Score\"].sort_values(ascending=False)"
   ]
  },
  {
   "cell_type": "code",
   "execution_count": 51,
   "id": "induced-south",
   "metadata": {},
   "outputs": [
    {
     "data": {
      "text/plain": [
       "Happiness Score     1.000000\n",
       "Happiness Rank      0.992663\n",
       "Job Satisfaction    0.812873\n",
       "Economy             0.808678\n",
       "Health              0.777731\n",
       "Family              0.749612\n",
       "Freedom             0.567948\n",
       "Dystopia            0.481117\n",
       "Corruption          0.438262\n",
       "Generosity          0.164123\n",
       "Name: Happiness Score, dtype: float64"
      ]
     },
     "execution_count": 51,
     "metadata": {},
     "output_type": "execute_result"
    }
   ],
   "source": [
    "WHR.corr(method=\"pearson\", min_periods=20)[\"Happiness Score\"].abs().sort_values(ascending=False)"
   ]
  },
  {
   "cell_type": "code",
   "execution_count": 52,
   "id": "german-logic",
   "metadata": {},
   "outputs": [
    {
     "data": {
      "text/html": [
       "<div>\n",
       "<style scoped>\n",
       "    .dataframe tbody tr th:only-of-type {\n",
       "        vertical-align: middle;\n",
       "    }\n",
       "\n",
       "    .dataframe tbody tr th {\n",
       "        vertical-align: top;\n",
       "    }\n",
       "\n",
       "    .dataframe thead th {\n",
       "        text-align: right;\n",
       "    }\n",
       "</style>\n",
       "<table border=\"1\" class=\"dataframe\">\n",
       "  <thead>\n",
       "    <tr style=\"text-align: right;\">\n",
       "      <th></th>\n",
       "      <th>Happiness Rank</th>\n",
       "      <th>Happiness Score</th>\n",
       "      <th>Economy</th>\n",
       "      <th>Family</th>\n",
       "      <th>Health</th>\n",
       "      <th>Freedom</th>\n",
       "      <th>Generosity</th>\n",
       "      <th>Corruption</th>\n",
       "      <th>Dystopia</th>\n",
       "      <th>Job Satisfaction</th>\n",
       "    </tr>\n",
       "  </thead>\n",
       "  <tbody>\n",
       "    <tr>\n",
       "      <th>Happiness Rank</th>\n",
       "      <td>1.000000</td>\n",
       "      <td>-0.992663</td>\n",
       "      <td>-0.809521</td>\n",
       "      <td>-0.733902</td>\n",
       "      <td>-0.776602</td>\n",
       "      <td>-0.550111</td>\n",
       "      <td>-0.142348</td>\n",
       "      <td>-0.415532</td>\n",
       "      <td>-0.489194</td>\n",
       "      <td>-0.814535</td>\n",
       "    </tr>\n",
       "    <tr>\n",
       "      <th>Happiness Score</th>\n",
       "      <td>-0.992663</td>\n",
       "      <td>1.000000</td>\n",
       "      <td>0.808678</td>\n",
       "      <td>0.749612</td>\n",
       "      <td>0.777731</td>\n",
       "      <td>0.567948</td>\n",
       "      <td>0.164123</td>\n",
       "      <td>0.438262</td>\n",
       "      <td>0.481117</td>\n",
       "      <td>0.812873</td>\n",
       "    </tr>\n",
       "    <tr>\n",
       "      <th>Economy</th>\n",
       "      <td>-0.809521</td>\n",
       "      <td>0.808678</td>\n",
       "      <td>1.000000</td>\n",
       "      <td>0.685524</td>\n",
       "      <td>0.838884</td>\n",
       "      <td>0.363843</td>\n",
       "      <td>-0.015614</td>\n",
       "      <td>0.358750</td>\n",
       "      <td>0.022620</td>\n",
       "      <td>0.700662</td>\n",
       "    </tr>\n",
       "    <tr>\n",
       "      <th>Family</th>\n",
       "      <td>-0.733902</td>\n",
       "      <td>0.749612</td>\n",
       "      <td>0.685524</td>\n",
       "      <td>1.000000</td>\n",
       "      <td>0.606674</td>\n",
       "      <td>0.412633</td>\n",
       "      <td>0.050771</td>\n",
       "      <td>0.236262</td>\n",
       "      <td>0.075480</td>\n",
       "      <td>0.623266</td>\n",
       "    </tr>\n",
       "    <tr>\n",
       "      <th>Health</th>\n",
       "      <td>-0.776602</td>\n",
       "      <td>0.777731</td>\n",
       "      <td>0.838884</td>\n",
       "      <td>0.606674</td>\n",
       "      <td>1.000000</td>\n",
       "      <td>0.340986</td>\n",
       "      <td>0.068895</td>\n",
       "      <td>0.286777</td>\n",
       "      <td>0.055886</td>\n",
       "      <td>0.704795</td>\n",
       "    </tr>\n",
       "    <tr>\n",
       "      <th>Freedom</th>\n",
       "      <td>-0.550111</td>\n",
       "      <td>0.567948</td>\n",
       "      <td>0.363843</td>\n",
       "      <td>0.412633</td>\n",
       "      <td>0.340986</td>\n",
       "      <td>1.000000</td>\n",
       "      <td>0.319387</td>\n",
       "      <td>0.501632</td>\n",
       "      <td>0.092923</td>\n",
       "      <td>0.500655</td>\n",
       "    </tr>\n",
       "    <tr>\n",
       "      <th>Generosity</th>\n",
       "      <td>-0.142348</td>\n",
       "      <td>0.164123</td>\n",
       "      <td>-0.015614</td>\n",
       "      <td>0.050771</td>\n",
       "      <td>0.068895</td>\n",
       "      <td>0.319387</td>\n",
       "      <td>1.000000</td>\n",
       "      <td>0.292363</td>\n",
       "      <td>-0.102683</td>\n",
       "      <td>0.220032</td>\n",
       "    </tr>\n",
       "    <tr>\n",
       "      <th>Corruption</th>\n",
       "      <td>-0.415532</td>\n",
       "      <td>0.438262</td>\n",
       "      <td>0.358750</td>\n",
       "      <td>0.236262</td>\n",
       "      <td>0.286777</td>\n",
       "      <td>0.501632</td>\n",
       "      <td>0.292363</td>\n",
       "      <td>1.000000</td>\n",
       "      <td>-0.014995</td>\n",
       "      <td>0.337131</td>\n",
       "    </tr>\n",
       "    <tr>\n",
       "      <th>Dystopia</th>\n",
       "      <td>-0.489194</td>\n",
       "      <td>0.481117</td>\n",
       "      <td>0.022620</td>\n",
       "      <td>0.075480</td>\n",
       "      <td>0.055886</td>\n",
       "      <td>0.092923</td>\n",
       "      <td>-0.102683</td>\n",
       "      <td>-0.014995</td>\n",
       "      <td>1.000000</td>\n",
       "      <td>0.281655</td>\n",
       "    </tr>\n",
       "    <tr>\n",
       "      <th>Job Satisfaction</th>\n",
       "      <td>-0.814535</td>\n",
       "      <td>0.812873</td>\n",
       "      <td>0.700662</td>\n",
       "      <td>0.623266</td>\n",
       "      <td>0.704795</td>\n",
       "      <td>0.500655</td>\n",
       "      <td>0.220032</td>\n",
       "      <td>0.337131</td>\n",
       "      <td>0.281655</td>\n",
       "      <td>1.000000</td>\n",
       "    </tr>\n",
       "  </tbody>\n",
       "</table>\n",
       "</div>"
      ],
      "text/plain": [
       "                  Happiness Rank  Happiness Score   Economy    Family  \\\n",
       "Happiness Rank          1.000000        -0.992663 -0.809521 -0.733902   \n",
       "Happiness Score        -0.992663         1.000000  0.808678  0.749612   \n",
       "Economy                -0.809521         0.808678  1.000000  0.685524   \n",
       "Family                 -0.733902         0.749612  0.685524  1.000000   \n",
       "Health                 -0.776602         0.777731  0.838884  0.606674   \n",
       "Freedom                -0.550111         0.567948  0.363843  0.412633   \n",
       "Generosity             -0.142348         0.164123 -0.015614  0.050771   \n",
       "Corruption             -0.415532         0.438262  0.358750  0.236262   \n",
       "Dystopia               -0.489194         0.481117  0.022620  0.075480   \n",
       "Job Satisfaction       -0.814535         0.812873  0.700662  0.623266   \n",
       "\n",
       "                    Health   Freedom  Generosity  Corruption  Dystopia  \\\n",
       "Happiness Rank   -0.776602 -0.550111   -0.142348   -0.415532 -0.489194   \n",
       "Happiness Score   0.777731  0.567948    0.164123    0.438262  0.481117   \n",
       "Economy           0.838884  0.363843   -0.015614    0.358750  0.022620   \n",
       "Family            0.606674  0.412633    0.050771    0.236262  0.075480   \n",
       "Health            1.000000  0.340986    0.068895    0.286777  0.055886   \n",
       "Freedom           0.340986  1.000000    0.319387    0.501632  0.092923   \n",
       "Generosity        0.068895  0.319387    1.000000    0.292363 -0.102683   \n",
       "Corruption        0.286777  0.501632    0.292363    1.000000 -0.014995   \n",
       "Dystopia          0.055886  0.092923   -0.102683   -0.014995  1.000000   \n",
       "Job Satisfaction  0.704795  0.500655    0.220032    0.337131  0.281655   \n",
       "\n",
       "                  Job Satisfaction  \n",
       "Happiness Rank           -0.814535  \n",
       "Happiness Score           0.812873  \n",
       "Economy                   0.700662  \n",
       "Family                    0.623266  \n",
       "Health                    0.704795  \n",
       "Freedom                   0.500655  \n",
       "Generosity                0.220032  \n",
       "Corruption                0.337131  \n",
       "Dystopia                  0.281655  \n",
       "Job Satisfaction          1.000000  "
      ]
     },
     "execution_count": 52,
     "metadata": {},
     "output_type": "execute_result"
    }
   ],
   "source": [
    "WHR.corr(method=\"pearson\", min_periods=20)"
   ]
  },
  {
   "cell_type": "code",
   "execution_count": 53,
   "id": "improving-murder",
   "metadata": {},
   "outputs": [
    {
     "data": {
      "text/plain": [
       "<AxesSubplot:>"
      ]
     },
     "execution_count": 53,
     "metadata": {},
     "output_type": "execute_result"
    },
    {
     "data": {
      "image/png": "[encoded data removed]",
      "text/plain": [
       "<Figure size 720x720 with 2 Axes>"
      ]
     },
     "metadata": {
      "needs_background": "light"
     },
     "output_type": "display_data"
    }
   ],
   "source": [
    "corr = WHR.corr(method = \"pearson\")\n",
    "\n",
    "f, ax = plt.subplots(figsize=(10, 10))\n",
    "\n",
    "sns.heatmap(corr, mask=np.zeros_like(corr, dtype=np.bool), \n",
    "            cmap=sns.diverging_palette(220, 10, as_cmap=True), square=True, ax=ax)"
   ]
  },
  {
   "cell_type": "code",
   "execution_count": 54,
   "id": "dominant-rendering",
   "metadata": {},
   "outputs": [
    {
     "data": {
      "text/plain": [
       "44"
      ]
     },
     "execution_count": 54,
     "metadata": {},
     "output_type": "execute_result"
    }
   ],
   "source": [
    "WHR[WHR['Happiness Score'] > 6].shape[0]"
   ]
  },
  {
   "cell_type": "code",
   "execution_count": 55,
   "id": "marked-attraction",
   "metadata": {},
   "outputs": [
    {
     "data": {
      "text/plain": [
       "17"
      ]
     },
     "execution_count": 55,
     "metadata": {},
     "output_type": "execute_result"
    }
   ],
   "source": [
    "WHR[(WHR['Happiness Score'] > 6) & (WHR['Region'] == 'Western Europe')].shape[0]"
   ]
  },
  {
   "cell_type": "code",
   "execution_count": 56,
   "id": "injured-image",
   "metadata": {},
   "outputs": [
    {
     "data": {
      "text/plain": [
       "0.38636363636363635"
      ]
     },
     "execution_count": 56,
     "metadata": {},
     "output_type": "execute_result"
    }
   ],
   "source": [
    "float(len(WHR[(WHR['Happiness Score'] > 6) & (WHR['Region'] == 'Western Europe')]))/float(len(WHR[WHR['Happiness Score'] > 6]))"
   ]
  },
  {
   "cell_type": "code",
   "execution_count": 57,
   "id": "joined-armstrong",
   "metadata": {},
   "outputs": [
    {
     "name": "stdout",
     "output_type": "stream",
     "text": [
      "The probability that a randomly selected country with happiness score over 6.0 is form Western Europe is 39%\n"
     ]
    }
   ],
   "source": [
    "print(\"The probability that a randomly selected country with happiness score over 6.0 is form Western Europe is {0:.0%}\".format(float(WHR[(WHR['Happiness Score'] > 6) & (WHR['Region'] == 'Western Europe')].shape[0]\n",
    "\n",
    ")/float(WHR[WHR['Happiness Score'] > 6].shape[0])))"
   ]
  },
  {
   "cell_type": "code",
   "execution_count": 58,
   "id": "remarkable-windows",
   "metadata": {},
   "outputs": [
    {
     "data": {
      "text/plain": [
       "(151, 11)"
      ]
     },
     "execution_count": 58,
     "metadata": {},
     "output_type": "execute_result"
    }
   ],
   "source": [
    "WHR.shape"
   ]
  },
  {
   "cell_type": "code",
   "execution_count": 59,
   "id": "vertical-border",
   "metadata": {},
   "outputs": [],
   "source": [
    "Western_Europe = []\n",
    "Eastern_Europe = []\n",
    "North_America = []\n",
    "Latin_America = []\n",
    "Asia_Pacific = []\n",
    "Africa = []"
   ]
  },
  {
   "cell_type": "code",
   "execution_count": 60,
   "id": "surgical-syria",
   "metadata": {},
   "outputs": [],
   "source": [
    "for x in WHR['Region']:\n",
    "    if x == 'Western Europe':\n",
    "         Western_Europe.append(1)\n",
    "    else: Western_Europe.append(0)"
   ]
  },
  {
   "cell_type": "code",
   "execution_count": 61,
   "id": "variable-works",
   "metadata": {},
   "outputs": [],
   "source": [
    "for x in WHR['Region']:\n",
    "    if x == 'Eastern Europe':\n",
    "         Eastern_Europe.append(1)\n",
    "    else: Eastern_Europe.append(0)"
   ]
  },
  {
   "cell_type": "code",
   "execution_count": 62,
   "id": "black-means",
   "metadata": {},
   "outputs": [],
   "source": [
    "for x in WHR['Region']:\n",
    "    if x == 'North America':\n",
    "         North_America.append(1)\n",
    "    else: North_America.append(0)"
   ]
  },
  {
   "cell_type": "code",
   "execution_count": 63,
   "id": "aboriginal-venue",
   "metadata": {},
   "outputs": [],
   "source": [
    "for x in WHR['Region']:\n",
    "    if x == 'Latin America':\n",
    "         Latin_America.append(1)\n",
    "    else: Latin_America.append(0)"
   ]
  },
  {
   "cell_type": "code",
   "execution_count": 64,
   "id": "fleet-performance",
   "metadata": {},
   "outputs": [],
   "source": [
    "for x in WHR['Region']:\n",
    "    if x == 'Asia-Pacific':\n",
    "         Asia_Pacific.append(1)\n",
    "    else: Asia_Pacific.append(0)"
   ]
  },
  {
   "cell_type": "code",
   "execution_count": 65,
   "id": "interior-brooks",
   "metadata": {},
   "outputs": [],
   "source": [
    "for x in WHR['Region']:\n",
    "    if x == 'Africa':\n",
    "         Africa.append(1)\n",
    "    else: Africa.append(0)"
   ]
  },
  {
   "cell_type": "code",
   "execution_count": 66,
   "id": "frozen-express",
   "metadata": {},
   "outputs": [],
   "source": [
    "Matrix = pd.DataFrame(index=WHR.index)"
   ]
  },
  {
   "cell_type": "code",
   "execution_count": 67,
   "id": "constant-broad",
   "metadata": {},
   "outputs": [],
   "source": [
    "Matrix['Western Europe'] = Western_Europe\n",
    "Matrix['Eastern Europe'] = Eastern_Europe\n",
    "Matrix['North America'] = North_America\n",
    "Matrix['Latin America'] = Latin_America\n",
    "Matrix['Asia Pacific'] = Asia_Pacific\n",
    "Matrix['Africa'] = Africa"
   ]
  },
  {
   "cell_type": "code",
   "execution_count": 68,
   "id": "harmful-advance",
   "metadata": {},
   "outputs": [
    {
     "data": {
      "text/html": [
       "<div>\n",
       "<style scoped>\n",
       "    .dataframe tbody tr th:only-of-type {\n",
       "        vertical-align: middle;\n",
       "    }\n",
       "\n",
       "    .dataframe tbody tr th {\n",
       "        vertical-align: top;\n",
       "    }\n",
       "\n",
       "    .dataframe thead th {\n",
       "        text-align: right;\n",
       "    }\n",
       "</style>\n",
       "<table border=\"1\" class=\"dataframe\">\n",
       "  <thead>\n",
       "    <tr style=\"text-align: right;\">\n",
       "      <th></th>\n",
       "      <th>Western Europe</th>\n",
       "      <th>Eastern Europe</th>\n",
       "      <th>North America</th>\n",
       "      <th>Latin America</th>\n",
       "      <th>Asia Pacific</th>\n",
       "      <th>Africa</th>\n",
       "    </tr>\n",
       "    <tr>\n",
       "      <th>Country</th>\n",
       "      <th></th>\n",
       "      <th></th>\n",
       "      <th></th>\n",
       "      <th></th>\n",
       "      <th></th>\n",
       "      <th></th>\n",
       "    </tr>\n",
       "  </thead>\n",
       "  <tbody>\n",
       "    <tr>\n",
       "      <th>Norway</th>\n",
       "      <td>1</td>\n",
       "      <td>0</td>\n",
       "      <td>0</td>\n",
       "      <td>0</td>\n",
       "      <td>0</td>\n",
       "      <td>0</td>\n",
       "    </tr>\n",
       "    <tr>\n",
       "      <th>Denmark</th>\n",
       "      <td>1</td>\n",
       "      <td>0</td>\n",
       "      <td>0</td>\n",
       "      <td>0</td>\n",
       "      <td>0</td>\n",
       "      <td>0</td>\n",
       "    </tr>\n",
       "    <tr>\n",
       "      <th>Iceland</th>\n",
       "      <td>1</td>\n",
       "      <td>0</td>\n",
       "      <td>0</td>\n",
       "      <td>0</td>\n",
       "      <td>0</td>\n",
       "      <td>0</td>\n",
       "    </tr>\n",
       "    <tr>\n",
       "      <th>Switzerland</th>\n",
       "      <td>1</td>\n",
       "      <td>0</td>\n",
       "      <td>0</td>\n",
       "      <td>0</td>\n",
       "      <td>0</td>\n",
       "      <td>0</td>\n",
       "    </tr>\n",
       "    <tr>\n",
       "      <th>Finland</th>\n",
       "      <td>1</td>\n",
       "      <td>0</td>\n",
       "      <td>0</td>\n",
       "      <td>0</td>\n",
       "      <td>0</td>\n",
       "      <td>0</td>\n",
       "    </tr>\n",
       "    <tr>\n",
       "      <th>Netherlands</th>\n",
       "      <td>1</td>\n",
       "      <td>0</td>\n",
       "      <td>0</td>\n",
       "      <td>0</td>\n",
       "      <td>0</td>\n",
       "      <td>0</td>\n",
       "    </tr>\n",
       "    <tr>\n",
       "      <th>Canada</th>\n",
       "      <td>0</td>\n",
       "      <td>0</td>\n",
       "      <td>1</td>\n",
       "      <td>0</td>\n",
       "      <td>0</td>\n",
       "      <td>0</td>\n",
       "    </tr>\n",
       "    <tr>\n",
       "      <th>New Zealand</th>\n",
       "      <td>0</td>\n",
       "      <td>0</td>\n",
       "      <td>0</td>\n",
       "      <td>0</td>\n",
       "      <td>1</td>\n",
       "      <td>0</td>\n",
       "    </tr>\n",
       "    <tr>\n",
       "      <th>Sweden</th>\n",
       "      <td>1</td>\n",
       "      <td>0</td>\n",
       "      <td>0</td>\n",
       "      <td>0</td>\n",
       "      <td>0</td>\n",
       "      <td>0</td>\n",
       "    </tr>\n",
       "    <tr>\n",
       "      <th>Australia</th>\n",
       "      <td>0</td>\n",
       "      <td>0</td>\n",
       "      <td>0</td>\n",
       "      <td>0</td>\n",
       "      <td>1</td>\n",
       "      <td>0</td>\n",
       "    </tr>\n",
       "    <tr>\n",
       "      <th>Israel</th>\n",
       "      <td>0</td>\n",
       "      <td>0</td>\n",
       "      <td>0</td>\n",
       "      <td>0</td>\n",
       "      <td>1</td>\n",
       "      <td>0</td>\n",
       "    </tr>\n",
       "    <tr>\n",
       "      <th>Costa Rica</th>\n",
       "      <td>0</td>\n",
       "      <td>0</td>\n",
       "      <td>0</td>\n",
       "      <td>1</td>\n",
       "      <td>0</td>\n",
       "      <td>0</td>\n",
       "    </tr>\n",
       "    <tr>\n",
       "      <th>Austria</th>\n",
       "      <td>1</td>\n",
       "      <td>0</td>\n",
       "      <td>0</td>\n",
       "      <td>0</td>\n",
       "      <td>0</td>\n",
       "      <td>0</td>\n",
       "    </tr>\n",
       "    <tr>\n",
       "      <th>United States</th>\n",
       "      <td>0</td>\n",
       "      <td>0</td>\n",
       "      <td>1</td>\n",
       "      <td>0</td>\n",
       "      <td>0</td>\n",
       "      <td>0</td>\n",
       "    </tr>\n",
       "    <tr>\n",
       "      <th>Ireland</th>\n",
       "      <td>1</td>\n",
       "      <td>0</td>\n",
       "      <td>0</td>\n",
       "      <td>0</td>\n",
       "      <td>0</td>\n",
       "      <td>0</td>\n",
       "    </tr>\n",
       "    <tr>\n",
       "      <th>Germany</th>\n",
       "      <td>1</td>\n",
       "      <td>0</td>\n",
       "      <td>0</td>\n",
       "      <td>0</td>\n",
       "      <td>0</td>\n",
       "      <td>0</td>\n",
       "    </tr>\n",
       "    <tr>\n",
       "      <th>Belgium</th>\n",
       "      <td>1</td>\n",
       "      <td>0</td>\n",
       "      <td>0</td>\n",
       "      <td>0</td>\n",
       "      <td>0</td>\n",
       "      <td>0</td>\n",
       "    </tr>\n",
       "    <tr>\n",
       "      <th>Luxembourg</th>\n",
       "      <td>1</td>\n",
       "      <td>0</td>\n",
       "      <td>0</td>\n",
       "      <td>0</td>\n",
       "      <td>0</td>\n",
       "      <td>0</td>\n",
       "    </tr>\n",
       "    <tr>\n",
       "      <th>United Kingdom</th>\n",
       "      <td>1</td>\n",
       "      <td>0</td>\n",
       "      <td>0</td>\n",
       "      <td>0</td>\n",
       "      <td>0</td>\n",
       "      <td>0</td>\n",
       "    </tr>\n",
       "    <tr>\n",
       "      <th>Chile</th>\n",
       "      <td>0</td>\n",
       "      <td>0</td>\n",
       "      <td>0</td>\n",
       "      <td>1</td>\n",
       "      <td>0</td>\n",
       "      <td>0</td>\n",
       "    </tr>\n",
       "  </tbody>\n",
       "</table>\n",
       "</div>"
      ],
      "text/plain": [
       "                Western Europe  Eastern Europe  North America  Latin America  \\\n",
       "Country                                                                        \n",
       "Norway                       1               0              0              0   \n",
       "Denmark                      1               0              0              0   \n",
       "Iceland                      1               0              0              0   \n",
       "Switzerland                  1               0              0              0   \n",
       "Finland                      1               0              0              0   \n",
       "Netherlands                  1               0              0              0   \n",
       "Canada                       0               0              1              0   \n",
       "New Zealand                  0               0              0              0   \n",
       "Sweden                       1               0              0              0   \n",
       "Australia                    0               0              0              0   \n",
       "Israel                       0               0              0              0   \n",
       "Costa Rica                   0               0              0              1   \n",
       "Austria                      1               0              0              0   \n",
       "United States                0               0              1              0   \n",
       "Ireland                      1               0              0              0   \n",
       "Germany                      1               0              0              0   \n",
       "Belgium                      1               0              0              0   \n",
       "Luxembourg                   1               0              0              0   \n",
       "United Kingdom               1               0              0              0   \n",
       "Chile                        0               0              0              1   \n",
       "\n",
       "                Asia Pacific  Africa  \n",
       "Country                               \n",
       "Norway                     0       0  \n",
       "Denmark                    0       0  \n",
       "Iceland                    0       0  \n",
       "Switzerland                0       0  \n",
       "Finland                    0       0  \n",
       "Netherlands                0       0  \n",
       "Canada                     0       0  \n",
       "New Zealand                1       0  \n",
       "Sweden                     0       0  \n",
       "Australia                  1       0  \n",
       "Israel                     1       0  \n",
       "Costa Rica                 0       0  \n",
       "Austria                    0       0  \n",
       "United States              0       0  \n",
       "Ireland                    0       0  \n",
       "Germany                    0       0  \n",
       "Belgium                    0       0  \n",
       "Luxembourg                 0       0  \n",
       "United Kingdom             0       0  \n",
       "Chile                      0       0  "
      ]
     },
     "execution_count": 68,
     "metadata": {},
     "output_type": "execute_result"
    }
   ],
   "source": [
    "Matrix.head(20)"
   ]
  },
  {
   "cell_type": "markdown",
   "id": "hydraulic-installation",
   "metadata": {},
   "source": [
    "#### *Not so bad!!!"
   ]
  }
 ],
 "metadata": {
  "kernelspec": {
   "display_name": "Python 3",
   "language": "python",
   "name": "python3"
  },
  "language_info": {
   "codemirror_mode": {
    "name": "ipython",
    "version": 3
   },
   "file_extension": ".py",
   "mimetype": "text/x-python",
   "name": "python",
   "nbconvert_exporter": "python",
   "pygments_lexer": "ipython3",
   "version": "3.9.2"
  }
 },
 "nbformat": 4,
 "nbformat_minor": 5
}
